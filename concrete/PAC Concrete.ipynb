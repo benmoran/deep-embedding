{
 "cells": [
  {
   "cell_type": "markdown",
   "metadata": {},
   "source": [
    "Try out a VAE which uses a mixture of continuous and discrete latent variables on the Photon PAC data.\n",
    "\n",
    "- Keras Code from \n",
    "https://github.com/EmilienDupont/vae-concrete"
   ]
  },
  {
   "cell_type": "markdown",
   "metadata": {},
   "source": [
    "**TODO**\n",
    "\n",
    " - [X] ~~Data loader for PAC~~\n",
    " - [X] ~~Decide on mono vs 3 channel~~\n",
    " - [ ] Report loss components separately\n",
    " - [ ] Save fitted model\n",
    " - [ ] Visualize fitted model (how many latent dimensions used? any predictive power?)\n",
    " - [ ] Semi-supervised: Add discriminative loss following https://arxiv.org/pdf/1611.01144.pdf\n",
    " - [ ] Add covariables"
   ]
  },
  {
   "cell_type": "code",
   "execution_count": 1,
   "metadata": {},
   "outputs": [
    {
     "name": "stderr",
     "output_type": "stream",
     "text": [
      "/data/miniconda3/lib/python3.6/site-packages/h5py/__init__.py:36: FutureWarning: Conversion of the second argument of issubdtype from `float` to `np.floating` is deprecated. In future, it will be treated as `np.float64 == np.dtype(float).type`.\n",
      "  from ._conv import register_converters as _register_converters\n",
      "Using TensorFlow backend.\n"
     ]
    }
   ],
   "source": [
    "import pac_concrete\n",
    "import concrete_util"
   ]
  },
  {
   "cell_type": "code",
   "execution_count": 2,
   "metadata": {},
   "outputs": [
    {
     "data": {
      "text/plain": [
       "<module 'pac_concrete' from '/data/code/deep-embedding/concrete/pac_concrete.py'>"
      ]
     },
     "execution_count": 2,
     "metadata": {},
     "output_type": "execute_result"
    }
   ],
   "source": [
    "import importlib\n",
    "importlib.reload(concrete_util)\n",
    "importlib.reload(pac_concrete)"
   ]
  },
  {
   "cell_type": "code",
   "execution_count": 5,
   "metadata": {},
   "outputs": [],
   "source": [
    "from concrete_util import get_processed_pac\n",
    "\n",
    "\n",
    "(x_train, y_train), (x_test, y_test) = get_processed_pac(batch_size=25, \n",
    "                                                         split_frac=0.99)\n"
   ]
  },
  {
   "cell_type": "code",
   "execution_count": 6,
   "metadata": {},
   "outputs": [
    {
     "data": {
      "text/plain": [
       "(1750, 121, 145, 3)"
      ]
     },
     "execution_count": 6,
     "metadata": {},
     "output_type": "execute_result"
    }
   ],
   "source": [
    "x_train.shape"
   ]
  },
  {
   "cell_type": "code",
   "execution_count": 8,
   "metadata": {
    "scrolled": false
   },
   "outputs": [
    {
     "name": "stdout",
     "output_type": "stream",
     "text": [
      "Setting up model...\n",
      "Completed model setup.\n",
      "Train on 1600 samples, validate on 150 samples\n",
      "Epoch 1/5\n",
      "1600/1600 [==============================] - 18s 11ms/step - loss: 5082.2436 - val_loss: 3283.8008\n",
      "Epoch 2/5\n",
      "1600/1600 [==============================] - 15s 9ms/step - loss: 3247.3139 - val_loss: 3173.0408\n",
      "Epoch 3/5\n",
      "1600/1600 [==============================] - 15s 9ms/step - loss: 3169.9679 - val_loss: 3133.0492\n",
      "Epoch 4/5\n",
      "1600/1600 [==============================] - 15s 9ms/step - loss: 3162.1905 - val_loss: 3135.8560\n",
      "Epoch 5/5\n",
      "1600/1600 [==============================] - 15s 9ms/step - loss: 3145.8634 - val_loss: 3137.5827\n"
     ]
    }
   ],
   "source": [
    "model = pac_concrete.VAE(latent_cont_dim=3, latent_disc_dim=6)\n",
    "model.fit(x_train, batch_size=25, num_epochs=5, val_split=0.0854)\n",
    "#model.plot(std_dev=1.)"
   ]
  },
  {
   "cell_type": "code",
   "execution_count": 10,
   "metadata": {},
   "outputs": [],
   "source": [
    "model.model.save('pac_3c_5d.h5')"
   ]
  },
  {
   "cell_type": "code",
   "execution_count": 11,
   "metadata": {},
   "outputs": [
    {
     "data": {
      "text/plain": [
       "['__class__',\n",
       " '__delattr__',\n",
       " '__dict__',\n",
       " '__dir__',\n",
       " '__doc__',\n",
       " '__eq__',\n",
       " '__format__',\n",
       " '__ge__',\n",
       " '__getattribute__',\n",
       " '__gt__',\n",
       " '__hash__',\n",
       " '__init__',\n",
       " '__init_subclass__',\n",
       " '__le__',\n",
       " '__lt__',\n",
       " '__module__',\n",
       " '__ne__',\n",
       " '__new__',\n",
       " '__reduce__',\n",
       " '__reduce_ex__',\n",
       " '__repr__',\n",
       " '__setattr__',\n",
       " '__sizeof__',\n",
       " '__str__',\n",
       " '__subclasshook__',\n",
       " '__weakref__',\n",
       " '_sampling_concrete',\n",
       " '_sampling_normal',\n",
       " '_set_model',\n",
       " '_vae_loss',\n",
       " 'alpha',\n",
       " 'batch_size',\n",
       " 'filters',\n",
       " 'fit',\n",
       " 'generate',\n",
       " 'generator',\n",
       " 'hidden_dim',\n",
       " 'input_shape',\n",
       " 'latent_cont_dim',\n",
       " 'latent_dim',\n",
       " 'latent_disc_dim',\n",
       " 'model',\n",
       " 'num_epochs',\n",
       " 'opt',\n",
       " 'plot',\n",
       " 'z_log_var',\n",
       " 'z_mean']"
      ]
     },
     "execution_count": 11,
     "metadata": {},
     "output_type": "execute_result"
    }
   ],
   "source": [
    "dir(model)"
   ]
  },
  {
   "cell_type": "code",
   "execution_count": null,
   "metadata": {},
   "outputs": [],
   "source": [
    "model.generate"
   ]
  }
 ],
 "metadata": {
  "kernelspec": {
   "display_name": "Python 3",
   "language": "python",
   "name": "python3"
  },
  "language_info": {
   "codemirror_mode": {
    "name": "ipython",
    "version": 3
   },
   "file_extension": ".py",
   "mimetype": "text/x-python",
   "name": "python",
   "nbconvert_exporter": "python",
   "pygments_lexer": "ipython3",
   "version": "3.6.3"
  }
 },
 "nbformat": 4,
 "nbformat_minor": 2
}
