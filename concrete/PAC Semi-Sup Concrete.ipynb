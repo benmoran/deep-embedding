{
 "cells": [
  {
   "cell_type": "markdown",
   "metadata": {},
   "source": [
    "Try out a VAE which uses a mixture of continuous and discrete latent variables on the Photon PAC data.\n",
    "\n",
    "- Keras Code from \n",
    "https://github.com/EmilienDupont/vae-concrete"
   ]
  },
  {
   "cell_type": "markdown",
   "metadata": {},
   "source": [
    "**TODO**\n",
    "\n",
    " - [X] ~~Data loader for PAC~~\n",
    " - [X] ~~Decide on mono vs 3 channel~~\n",
    " - [X] Report loss components separately\n",
    " - [X] Save fitted model\n",
    " - [X] Visualize fitted model (how many latent dimensions used? any predictive power?)\n",
    " - [X] Semi-supervised: Add discriminative loss following https://arxiv.org/pdf/1611.01144.pdf\n",
    " - [X] Add covariables"
   ]
  },
  {
   "cell_type": "code",
   "execution_count": 1,
   "metadata": {},
   "outputs": [
    {
     "data": {
      "text/plain": [
       "1"
      ]
     },
     "execution_count": 1,
     "metadata": {},
     "output_type": "execute_result"
    }
   ],
   "source": [
    "1"
   ]
  },
  {
   "cell_type": "code",
   "execution_count": 1,
   "metadata": {},
   "outputs": [
    {
     "name": "stderr",
     "output_type": "stream",
     "text": [
      "/data/miniconda3/lib/python3.6/site-packages/h5py/__init__.py:36: FutureWarning: Conversion of the second argument of issubdtype from `float` to `np.floating` is deprecated. In future, it will be treated as `np.float64 == np.dtype(float).type`.\n",
      "  from ._conv import register_converters as _register_converters\n",
      "Using TensorFlow backend.\n"
     ]
    }
   ],
   "source": [
    "import pac_ss\n",
    "import concrete_util"
   ]
  },
  {
   "cell_type": "code",
   "execution_count": 2,
   "metadata": {},
   "outputs": [
    {
     "data": {
      "text/plain": [
       "<module 'pac_ss' from '/data/code/deep-embedding/concrete/pac_ss.py'>"
      ]
     },
     "execution_count": 2,
     "metadata": {},
     "output_type": "execute_result"
    }
   ],
   "source": [
    "import importlib\n",
    "importlib.reload(concrete_util)\n",
    "importlib.reload(pac_ss)"
   ]
  },
  {
   "cell_type": "code",
   "execution_count": 3,
   "metadata": {},
   "outputs": [],
   "source": [
    "from concrete_util import get_processed_pac\n",
    "\n",
    "\n",
    "(x_train, y_train, w_train), (x_test, y_test, w_test) = \\\n",
    "get_processed_pac(batch_size=25, \n",
    "split_frac=0.99)\n"
   ]
  },
  {
   "cell_type": "code",
   "execution_count": 4,
   "metadata": {
    "scrolled": false
   },
   "outputs": [],
   "source": [
    "model = pac_ss.SSVAE(extra_shape=w_train.shape[1], latent_cont_dim=3, latent_disc_dim=2)\n"
   ]
  },
  {
   "cell_type": "code",
   "execution_count": null,
   "metadata": {},
   "outputs": [
    {
     "name": "stdout",
     "output_type": "stream",
     "text": [
      "Setting up model...\n",
      "Completed model setup.\n",
      "WARNING:tensorflow:From /data/miniconda3/lib/python3.6/site-packages/tensorflow/contrib/learn/python/learn/datasets/base.py:198: retry (from tensorflow.contrib.learn.python.learn.datasets.base) is deprecated and will be removed in a future version.\n",
      "Instructions for updating:\n",
      "Use the retry module or similar alternatives.\n",
      "Train on 1600 samples, validate on 150 samples\n",
      "Epoch 1/10\n",
      "1600/1600 [==============================] - 18s 11ms/step - loss: 5208.6164 - generated_loss: 4085.5145 - alpha_loss: -0.8214 - probs_loss: 1.1635 - z_enc_loss: 1112.2878 - probs_categorical_accuracy: 0.5319 - val_loss: 3355.0149 - val_generated_loss: 3341.6392 - val_alpha_loss: -0.9827 - val_probs_loss: 0.6871 - val_z_enc_loss: 7.4876 - val_probs_categorical_accuracy: 0.5533\n",
      "Epoch 2/10\n",
      "1600/1600 [==============================] - 15s 9ms/step - loss: 3267.5832 - generated_loss: 3253.0720 - alpha_loss: -0.9647 - probs_loss: 0.7300 - z_enc_loss: 8.1763 - probs_categorical_accuracy: 0.5719 - val_loss: 4085.5051 - val_generated_loss: 4079.3912 - val_alpha_loss: -0.9983 - val_probs_loss: 0.6955 - val_z_enc_loss: 0.1576 - val_probs_categorical_accuracy: 0.4467\n",
      "Epoch 3/10\n",
      "1600/1600 [==============================] - 15s 9ms/step - loss: 3172.4196 - generated_loss: 3166.2245 - alpha_loss: -0.9873 - probs_loss: 0.6913 - z_enc_loss: 0.2691 - probs_categorical_accuracy: 0.5494 - val_loss: 3171.8800 - val_generated_loss: 3166.0161 - val_alpha_loss: -0.9945 - val_probs_loss: 0.6783 - val_z_enc_loss: 0.0751 - val_probs_categorical_accuracy: 0.5867\n",
      "Epoch 4/10\n",
      "1600/1600 [==============================] - 15s 9ms/step - loss: 3146.1220 - generated_loss: 3140.3698 - alpha_loss: -0.9852 - probs_loss: 0.6589 - z_enc_loss: 0.1484 - probs_categorical_accuracy: 0.6300 - val_loss: 3153.6467 - val_generated_loss: 3147.9071 - val_alpha_loss: -0.9770 - val_probs_loss: 0.6630 - val_z_enc_loss: 0.0866 - val_probs_categorical_accuracy: 0.6400\n",
      "Epoch 5/10\n",
      " 225/1600 [===>..........................] - ETA: 13s - loss: 3168.5533 - generated_loss: 3162.8930 - alpha_loss: -0.9734 - probs_loss: 0.6492 - z_enc_loss: 0.1414 - probs_categorical_accuracy: 0.6400"
     ]
    }
   ],
   "source": [
    "model.fit(x_train, w_train, y_train,\n",
    "          batch_size=25, num_epochs=10, val_split=0.0854)\n",
    "#model.plot(std_dev=1.)"
   ]
  },
  {
   "cell_type": "code",
   "execution_count": 7,
   "metadata": {},
   "outputs": [],
   "source": [
    "model.model.save('pacss_3c_2d_10e_discrim10x.h5')"
   ]
  },
  {
   "cell_type": "code",
   "execution_count": 178,
   "metadata": {},
   "outputs": [
    {
     "name": "stdout",
     "output_type": "stream",
     "text": [
      "total 1828744\r\n",
      "-rw-rw-r-- 1 ubuntu ubuntu   1173336 May  5 10:19 covariates.h5\r\n",
      "-rw-rw-r-- 1 ubuntu ubuntu 134695025 May  7 15:40 imageslices.h5\r\n",
      "-rw-rw-r-- 1 ubuntu ubuntu      7731 May  7 16:02 pac_concrete.py\r\n",
      "-rw-rw-r-- 1 ubuntu ubuntu      5934 May  7 16:43 labels.h5\r\n",
      "-rw-rw-r-- 1 ubuntu ubuntu 578766096 May  7 16:48 pac_3c_5d.h5\r\n",
      "-rw-rw-r-- 1 ubuntu ubuntu      8000 May  7 16:51 PAC Concrete.ipynb\r\n",
      "-rw-rw-r-- 1 ubuntu ubuntu      7731 May 12 08:33 pac_ss.py~\r\n",
      "-rw-rw-r-- 1 ubuntu ubuntu      6520 May 12 09:03 concrete_util.py\r\n",
      "-rw-rw-r-- 1 ubuntu ubuntu        72 May 12 09:30 Untitled.ipynb\r\n",
      "-rw-rw-r-- 1 ubuntu ubuntu      8819 May 12 09:33 PAC Concrete - Plot.ipynb\r\n",
      "-rw-rw-r-- 1 ubuntu ubuntu     10766 May 12 10:47 pac_ss.py\r\n",
      "drwxrwxr-x 2 ubuntu ubuntu      4096 May 12 10:47 __pycache__\r\n",
      "-rw-rw-r-- 1 ubuntu ubuntu 578914328 May 12 10:49 pacss_3c_2d.h5\r\n",
      "-rw-rw-r-- 1 ubuntu ubuntu     71584 May 12 10:59 PAC Semi-Sup Concrete.ipynb\r\n",
      "-rw-rw-r-- 1 ubuntu ubuntu 578914336 May 12 11:25 pacss_3c_2d_100e.h5\r\n"
     ]
    }
   ],
   "source": []
  },
  {
   "cell_type": "markdown",
   "metadata": {},
   "source": [
    "# Are we using the latent dimensions?\n",
    "\n",
    "We can plot the KL from the prior to the encoding for each training point."
   ]
  },
  {
   "cell_type": "code",
   "execution_count": 8,
   "metadata": {},
   "outputs": [],
   "source": [
    "import matplotlib.pyplot as plt\n",
    "%matplotlib inline\n",
    "\n",
    "import numpy as np"
   ]
  },
  {
   "cell_type": "code",
   "execution_count": 9,
   "metadata": {},
   "outputs": [
    {
     "name": "stdout",
     "output_type": "stream",
     "text": [
      "Setting up model...\n",
      "Completed model setup.\n"
     ]
    }
   ],
   "source": [
    "model = pac_ss.SSVAE(extra_shape=w_train.shape[1], latent_cont_dim=3, latent_disc_dim=2)\n",
    "model.batch_size = 25\n",
    "model._set_model()\n",
    "model.model.load_weights(\"pacss_3c_2d_10e_discrim10x.h5\")"
   ]
  },
  {
   "cell_type": "code",
   "execution_count": 10,
   "metadata": {},
   "outputs": [
    {
     "data": {
      "text/plain": [
       "(1750, 121, 145, 3)"
      ]
     },
     "execution_count": 10,
     "metadata": {},
     "output_type": "execute_result"
    }
   ],
   "source": [
    "x_train.shape"
   ]
  },
  {
   "cell_type": "code",
   "execution_count": 11,
   "metadata": {},
   "outputs": [],
   "source": [
    "gen, alpha, probs, z_enc = model.model.predict([x_train,w_train], batch_size=model.batch_size)"
   ]
  },
  {
   "cell_type": "code",
   "execution_count": 12,
   "metadata": {},
   "outputs": [
    {
     "data": {
      "text/plain": [
       "<matplotlib.image.AxesImage at 0x7f043d08c208>"
      ]
     },
     "execution_count": 12,
     "metadata": {},
     "output_type": "execute_result"
    },
    {
     "data": {
      "image/png": "[encoded data removed]",
      "text/plain": [
       "<Figure size 432x288 with 1 Axes>"
      ]
     },
     "metadata": {},
     "output_type": "display_data"
    }
   ],
   "source": [
    "plt.imshow(gen[0])"
   ]
  },
  {
   "cell_type": "code",
   "execution_count": 13,
   "metadata": {},
   "outputs": [
    {
     "data": {
      "text/plain": [
       "array([0.8175977 , 0.18240231], dtype=float32)"
      ]
     },
     "execution_count": 13,
     "metadata": {},
     "output_type": "execute_result"
    }
   ],
   "source": [
    "probs[0]"
   ]
  },
  {
   "cell_type": "code",
   "execution_count": 14,
   "metadata": {},
   "outputs": [
    {
     "data": {
      "text/plain": [
       "<matplotlib.collections.PathCollection at 0x7f043d3c7668>"
      ]
     },
     "execution_count": 14,
     "metadata": {},
     "output_type": "execute_result"
    },
    {
     "data": {
      "image/png": "[encoded data removed]",
      "text/plain": [
       "<Figure size 432x288 with 1 Axes>"
      ]
     },
     "metadata": {},
     "output_type": "display_data"
    }
   ],
   "source": [
    "plt.scatter(probs[:,1], w_train[:,2]) # prob of label vs site=1"
   ]
  },
  {
   "cell_type": "code",
   "execution_count": 15,
   "metadata": {},
   "outputs": [
    {
     "data": {
      "text/plain": [
       "(array([ 1.,  1.,  7.,  3., 14., 14., 19., 23., 29., 26., 22., 34., 32.,\n",
       "        35., 42., 43., 35., 30., 42., 36., 35., 50., 51., 34., 42., 47.,\n",
       "        43., 43., 51., 44., 40., 59., 41., 46., 47., 55., 77., 47., 54.,\n",
       "        53., 71., 52., 49., 34., 43., 27., 15.,  6.,  3.,  3.]),\n",
       " array([0.04799527, 0.06533066, 0.08266606, 0.10000145, 0.11733685,\n",
       "        0.13467224, 0.15200764, 0.16934303, 0.18667843, 0.20401382,\n",
       "        0.22134922, 0.23868461, 0.25602   , 0.2733554 , 0.29069079,\n",
       "        0.30802619, 0.32536158, 0.34269698, 0.36003237, 0.37736777,\n",
       "        0.39470316, 0.41203856, 0.42937395, 0.44670935, 0.46404474,\n",
       "        0.48138013, 0.49871553, 0.51605092, 0.53338632, 0.55072171,\n",
       "        0.56805711, 0.5853925 , 0.6027279 , 0.62006329, 0.63739869,\n",
       "        0.65473408, 0.67206948, 0.68940487, 0.70674026, 0.72407566,\n",
       "        0.74141105, 0.75874645, 0.77608184, 0.79341724, 0.81075263,\n",
       "        0.82808803, 0.84542342, 0.86275882, 0.88009421, 0.89742961,\n",
       "        0.914765  ]),\n",
       " <a list of 50 Patch objects>)"
      ]
     },
     "execution_count": 15,
     "metadata": {},
     "output_type": "execute_result"
    },
    {
     "data": {
      "image/png": "[encoded data removed]",
      "text/plain": [
       "<Figure size 432x288 with 1 Axes>"
      ]
     },
     "metadata": {},
     "output_type": "display_data"
    }
   ],
   "source": [
    "plt.hist(probs[:,0],bins=50)"
   ]
  },
  {
   "cell_type": "code",
   "execution_count": 16,
   "metadata": {},
   "outputs": [
    {
     "data": {
      "text/plain": [
       "array([-0.22920471, -0.2962792 , -0.10080503], dtype=float32)"
      ]
     },
     "execution_count": 16,
     "metadata": {},
     "output_type": "execute_result"
    }
   ],
   "source": [
    "z_enc[:,3:].mean(axis=0)"
   ]
  },
  {
   "cell_type": "markdown",
   "metadata": {},
   "source": [
    "## Interactive plotting of generated output"
   ]
  },
  {
   "cell_type": "code",
   "execution_count": 18,
   "metadata": {},
   "outputs": [
    {
     "name": "stdout",
     "output_type": "stream",
     "text": [
      "Setting up model...\n",
      "Completed model setup.\n"
     ]
    }
   ],
   "source": [
    "model.batch_size = 1\n",
    "model._set_model()\n",
    "model.model.load_weights(\"pacss_3c_2d_10e_discrim10x.h5\")"
   ]
  },
  {
   "cell_type": "code",
   "execution_count": 19,
   "metadata": {},
   "outputs": [
    {
     "data": {
      "text/plain": [
       "[<tf.Tensor 'input_10:0' shape=(1, 121, 145, 3) dtype=float32>,\n",
       " <tf.Tensor 'input_11:0' shape=(1, 7) dtype=float32>]"
      ]
     },
     "execution_count": 19,
     "metadata": {},
     "output_type": "execute_result"
    }
   ],
   "source": [
    "model.model.inputs"
   ]
  },
  {
   "cell_type": "code",
   "execution_count": 20,
   "metadata": {},
   "outputs": [
    {
     "data": {
      "text/plain": [
       "[(0, 'input_10'),\n",
       " (1, 'conv2d_13'),\n",
       " (2, 'conv2d_14'),\n",
       " (3, 'conv2d_15'),\n",
       " (4, 'conv2d_16'),\n",
       " (5, 'input_11'),\n",
       " (6, 'flatten_4'),\n",
       " (7, 'dense_13'),\n",
       " (8, 'concatenate_13'),\n",
       " (9, 'dense_14'),\n",
       " (10, 'z_mean'),\n",
       " (11, 'z_log_var'),\n",
       " (12, 'alpha'),\n",
       " (13, 'lambda_7'),\n",
       " (14, 'lambda_8'),\n",
       " (15, 'concatenate_14'),\n",
       " (16, 'concatenate_15'),\n",
       " (17, 'dense_15'),\n",
       " (18, 'dense_16'),\n",
       " (19, 'reshape_4'),\n",
       " (20, 'conv2d_transpose_10'),\n",
       " (21, 'conv2d_transpose_11'),\n",
       " (22, 'conv2d_transpose_12'),\n",
       " (23, 'generated'),\n",
       " (24, 'probs'),\n",
       " (25, 'z_enc')]"
      ]
     },
     "execution_count": 20,
     "metadata": {},
     "output_type": "execute_result"
    }
   ],
   "source": [
    "[(i,model.model.layers[i].name) for i in range(len(model.model.layers))]"
   ]
  },
  {
   "cell_type": "code",
   "execution_count": null,
   "metadata": {},
   "outputs": [],
   "source": []
  },
  {
   "cell_type": "code",
   "execution_count": 21,
   "metadata": {},
   "outputs": [],
   "source": [
    "\n",
    "\n",
    "from ipywidgets import interact, interactive, fixed, interact_manual\n",
    "import ipywidgets as widgets"
   ]
  },
  {
   "cell_type": "code",
   "execution_count": 22,
   "metadata": {},
   "outputs": [],
   "source": [
    "import keras.backend as K"
   ]
  },
  {
   "cell_type": "code",
   "execution_count": 23,
   "metadata": {},
   "outputs": [
    {
     "data": {
      "text/plain": [
       "array([-0.9088289,  0.2943839,  1.       ,  0.       ,  0.       ,\n",
       "        1.       ,  0.       ], dtype=float32)"
      ]
     },
     "execution_count": 23,
     "metadata": {},
     "output_type": "execute_result"
    }
   ],
   "source": [
    "w_train[0]"
   ]
  },
  {
   "cell_type": "code",
   "execution_count": 26,
   "metadata": {},
   "outputs": [
    {
     "data": {
      "application/vnd.jupyter.widget-view+json": {
       "model_id": "dee828701db44cf9b27ce89fa79510c0",
       "version_major": 2,
       "version_minor": 0
      },
      "text/plain": [
       "interactive(children=(FloatSlider(value=0.0, description='c1', max=5.0, min=-5.0), FloatSlider(value=0.0, desc…"
      ]
     },
     "metadata": {},
     "output_type": "display_data"
    },
    {
     "data": {
      "text/plain": [
       "<function __main__.gen(c1, c2, c3, disc, site)>"
      ]
     },
     "execution_count": 26,
     "metadata": {},
     "output_type": "execute_result"
    }
   ],
   "source": [
    "\n",
    "def gen(c1,c2,c3,disc, site):\n",
    "    num_c = 3\n",
    "    num_disc = 2\n",
    "    z = np.zeros(num_c + num_disc)\n",
    "    z[disc+num_c] = 1\n",
    "    z[:num_c] = [c1,c2,c3]\n",
    "    w = w_train[0]\n",
    "    w[2:5] = 0\n",
    "    w[site] = 1\n",
    "    X = model.generate(np.r_[z], np.r_[w])[0]\n",
    "    #im.set_data(X)\n",
    "    plt.imshow(X)\n",
    "\n",
    "    \n",
    "interact(gen, c1=(-5.,5.), c2=(-5.,5.), c3=(-5.,5.), disc=range(2), site=range(3))"
   ]
  },
  {
   "cell_type": "code",
   "execution_count": null,
   "metadata": {},
   "outputs": [],
   "source": []
  },
  {
   "cell_type": "code",
   "execution_count": 85,
   "metadata": {},
   "outputs": [],
   "source": [
    "z_mean = model.model.get_layer(name='z_mean')\n",
    "alpha = model.model.get_layer(name='alpha')"
   ]
  },
  {
   "cell_type": "code",
   "execution_count": 88,
   "metadata": {},
   "outputs": [
    {
     "data": {
      "text/plain": [
       "[<tf.Tensor 'input_28:0' shape=(25, 121, 145, 3) dtype=float32>,\n",
       " <tf.Tensor 'input_29:0' shape=(25, 7) dtype=float32>]"
      ]
     },
     "execution_count": 88,
     "metadata": {},
     "output_type": "execute_result"
    }
   ],
   "source": [
    "model.model.inputs"
   ]
  },
  {
   "cell_type": "code",
   "execution_count": 90,
   "metadata": {},
   "outputs": [
    {
     "ename": "TypeError",
     "evalue": "Can not convert a Dense into a Tensor or Operation.",
     "output_type": "error",
     "traceback": [
      "\u001b[0;31m---------------------------------------------------------------------------\u001b[0m",
      "\u001b[0;31mTypeError\u001b[0m                                 Traceback (most recent call last)",
      "\u001b[0;32m<ipython-input-90-120814570a54>\u001b[0m in \u001b[0;36m<module>\u001b[0;34m()\u001b[0m\n\u001b[1;32m      1\u001b[0m \u001b[0;31m# How does the encoding look?\u001b[0m\u001b[0;34m\u001b[0m\u001b[0;34m\u001b[0m\u001b[0m\n\u001b[0;32m----> 2\u001b[0;31m \u001b[0menc\u001b[0m \u001b[0;34m=\u001b[0m \u001b[0mK\u001b[0m\u001b[0;34m.\u001b[0m\u001b[0mfunction\u001b[0m\u001b[0;34m(\u001b[0m\u001b[0mmodel\u001b[0m\u001b[0;34m.\u001b[0m\u001b[0mmodel\u001b[0m\u001b[0;34m.\u001b[0m\u001b[0minput_layers\u001b[0m\u001b[0;34m,\u001b[0m\u001b[0;34m[\u001b[0m\u001b[0mz_mean\u001b[0m\u001b[0;34m,\u001b[0m\u001b[0malpha\u001b[0m\u001b[0;34m]\u001b[0m\u001b[0;34m)\u001b[0m\u001b[0;34m\u001b[0m\u001b[0m\n\u001b[0m\u001b[1;32m      3\u001b[0m \u001b[0;32mdef\u001b[0m \u001b[0mencode\u001b[0m\u001b[0;34m(\u001b[0m\u001b[0mX\u001b[0m\u001b[0;34m)\u001b[0m\u001b[0;34m:\u001b[0m\u001b[0;34m\u001b[0m\u001b[0m\n\u001b[1;32m      4\u001b[0m     \u001b[0mz_mean\u001b[0m\u001b[0;34m,\u001b[0m \u001b[0malpha\u001b[0m \u001b[0;34m=\u001b[0m \u001b[0menc\u001b[0m\u001b[0;34m(\u001b[0m\u001b[0;34m[\u001b[0m\u001b[0mX\u001b[0m\u001b[0;34m[\u001b[0m\u001b[0mnp\u001b[0m\u001b[0;34m.\u001b[0m\u001b[0mnewaxis\u001b[0m\u001b[0;34m,\u001b[0m\u001b[0;34m:\u001b[0m\u001b[0;34m]\u001b[0m\u001b[0;34m]\u001b[0m\u001b[0;34m)\u001b[0m\u001b[0;34m\u001b[0m\u001b[0m\n\u001b[1;32m      5\u001b[0m     \u001b[0;32mreturn\u001b[0m \u001b[0malpha\u001b[0m\u001b[0;34m\u001b[0m\u001b[0m\n",
      "\u001b[0;32m/data/miniconda3/lib/python3.6/site-packages/keras/backend/tensorflow_backend.py\u001b[0m in \u001b[0;36mfunction\u001b[0;34m(inputs, outputs, updates, **kwargs)\u001b[0m\n\u001b[1;32m   2500\u001b[0m                 \u001b[0mmsg\u001b[0m \u001b[0;34m=\u001b[0m \u001b[0;34m'Invalid argument \"%s\" passed to K.function with TensorFlow backend'\u001b[0m \u001b[0;34m%\u001b[0m \u001b[0mkey\u001b[0m\u001b[0;34m\u001b[0m\u001b[0m\n\u001b[1;32m   2501\u001b[0m                 \u001b[0;32mraise\u001b[0m \u001b[0mValueError\u001b[0m\u001b[0;34m(\u001b[0m\u001b[0mmsg\u001b[0m\u001b[0;34m)\u001b[0m\u001b[0;34m\u001b[0m\u001b[0m\n\u001b[0;32m-> 2502\u001b[0;31m     \u001b[0;32mreturn\u001b[0m \u001b[0mFunction\u001b[0m\u001b[0;34m(\u001b[0m\u001b[0minputs\u001b[0m\u001b[0;34m,\u001b[0m \u001b[0moutputs\u001b[0m\u001b[0;34m,\u001b[0m \u001b[0mupdates\u001b[0m\u001b[0;34m=\u001b[0m\u001b[0mupdates\u001b[0m\u001b[0;34m,\u001b[0m \u001b[0;34m**\u001b[0m\u001b[0mkwargs\u001b[0m\u001b[0;34m)\u001b[0m\u001b[0;34m\u001b[0m\u001b[0m\n\u001b[0m\u001b[1;32m   2503\u001b[0m \u001b[0;34m\u001b[0m\u001b[0m\n\u001b[1;32m   2504\u001b[0m \u001b[0;34m\u001b[0m\u001b[0m\n",
      "\u001b[0;32m/data/miniconda3/lib/python3.6/site-packages/keras/backend/tensorflow_backend.py\u001b[0m in \u001b[0;36m__init__\u001b[0;34m(self, inputs, outputs, updates, name, **session_kwargs)\u001b[0m\n\u001b[1;32m   2443\u001b[0m         \u001b[0mself\u001b[0m\u001b[0;34m.\u001b[0m\u001b[0minputs\u001b[0m \u001b[0;34m=\u001b[0m \u001b[0mlist\u001b[0m\u001b[0;34m(\u001b[0m\u001b[0minputs\u001b[0m\u001b[0;34m)\u001b[0m\u001b[0;34m\u001b[0m\u001b[0m\n\u001b[1;32m   2444\u001b[0m         \u001b[0mself\u001b[0m\u001b[0;34m.\u001b[0m\u001b[0moutputs\u001b[0m \u001b[0;34m=\u001b[0m \u001b[0mlist\u001b[0m\u001b[0;34m(\u001b[0m\u001b[0moutputs\u001b[0m\u001b[0;34m)\u001b[0m\u001b[0;34m\u001b[0m\u001b[0m\n\u001b[0;32m-> 2445\u001b[0;31m         \u001b[0;32mwith\u001b[0m \u001b[0mtf\u001b[0m\u001b[0;34m.\u001b[0m\u001b[0mcontrol_dependencies\u001b[0m\u001b[0;34m(\u001b[0m\u001b[0mself\u001b[0m\u001b[0;34m.\u001b[0m\u001b[0moutputs\u001b[0m\u001b[0;34m)\u001b[0m\u001b[0;34m:\u001b[0m\u001b[0;34m\u001b[0m\u001b[0m\n\u001b[0m\u001b[1;32m   2446\u001b[0m             \u001b[0mupdates_ops\u001b[0m \u001b[0;34m=\u001b[0m \u001b[0;34m[\u001b[0m\u001b[0;34m]\u001b[0m\u001b[0;34m\u001b[0m\u001b[0m\n\u001b[1;32m   2447\u001b[0m             \u001b[0;32mfor\u001b[0m \u001b[0mupdate\u001b[0m \u001b[0;32min\u001b[0m \u001b[0mupdates\u001b[0m\u001b[0;34m:\u001b[0m\u001b[0;34m\u001b[0m\u001b[0m\n",
      "\u001b[0;32m/data/miniconda3/lib/python3.6/site-packages/tensorflow/python/framework/ops.py\u001b[0m in \u001b[0;36mcontrol_dependencies\u001b[0;34m(control_inputs)\u001b[0m\n\u001b[1;32m   4861\u001b[0m     \u001b[0;32mreturn\u001b[0m \u001b[0m_NullContextmanager\u001b[0m\u001b[0;34m(\u001b[0m\u001b[0;34m)\u001b[0m\u001b[0;34m\u001b[0m\u001b[0m\n\u001b[1;32m   4862\u001b[0m   \u001b[0;32melse\u001b[0m\u001b[0;34m:\u001b[0m\u001b[0;34m\u001b[0m\u001b[0m\n\u001b[0;32m-> 4863\u001b[0;31m     \u001b[0;32mreturn\u001b[0m \u001b[0mget_default_graph\u001b[0m\u001b[0;34m(\u001b[0m\u001b[0;34m)\u001b[0m\u001b[0;34m.\u001b[0m\u001b[0mcontrol_dependencies\u001b[0m\u001b[0;34m(\u001b[0m\u001b[0mcontrol_inputs\u001b[0m\u001b[0;34m)\u001b[0m\u001b[0;34m\u001b[0m\u001b[0m\n\u001b[0m\u001b[1;32m   4864\u001b[0m \u001b[0;34m\u001b[0m\u001b[0m\n\u001b[1;32m   4865\u001b[0m \u001b[0;34m\u001b[0m\u001b[0m\n",
      "\u001b[0;32m/data/miniconda3/lib/python3.6/site-packages/tensorflow/python/framework/ops.py\u001b[0m in \u001b[0;36mcontrol_dependencies\u001b[0;34m(self, control_inputs)\u001b[0m\n\u001b[1;32m   4479\u001b[0m       \u001b[0;32mif\u001b[0m \u001b[0misinstance\u001b[0m\u001b[0;34m(\u001b[0m\u001b[0mc\u001b[0m\u001b[0;34m,\u001b[0m \u001b[0mIndexedSlices\u001b[0m\u001b[0;34m)\u001b[0m\u001b[0;34m:\u001b[0m\u001b[0;34m\u001b[0m\u001b[0m\n\u001b[1;32m   4480\u001b[0m         \u001b[0mc\u001b[0m \u001b[0;34m=\u001b[0m \u001b[0mc\u001b[0m\u001b[0;34m.\u001b[0m\u001b[0mop\u001b[0m\u001b[0;34m\u001b[0m\u001b[0m\n\u001b[0;32m-> 4481\u001b[0;31m       \u001b[0mc\u001b[0m \u001b[0;34m=\u001b[0m \u001b[0mself\u001b[0m\u001b[0;34m.\u001b[0m\u001b[0mas_graph_element\u001b[0m\u001b[0;34m(\u001b[0m\u001b[0mc\u001b[0m\u001b[0;34m)\u001b[0m\u001b[0;34m\u001b[0m\u001b[0m\n\u001b[0m\u001b[1;32m   4482\u001b[0m       \u001b[0;32mif\u001b[0m \u001b[0misinstance\u001b[0m\u001b[0;34m(\u001b[0m\u001b[0mc\u001b[0m\u001b[0;34m,\u001b[0m \u001b[0mTensor\u001b[0m\u001b[0;34m)\u001b[0m\u001b[0;34m:\u001b[0m\u001b[0;34m\u001b[0m\u001b[0m\n\u001b[1;32m   4483\u001b[0m         \u001b[0mc\u001b[0m \u001b[0;34m=\u001b[0m \u001b[0mc\u001b[0m\u001b[0;34m.\u001b[0m\u001b[0mop\u001b[0m\u001b[0;34m\u001b[0m\u001b[0m\n",
      "\u001b[0;32m/data/miniconda3/lib/python3.6/site-packages/tensorflow/python/framework/ops.py\u001b[0m in \u001b[0;36mas_graph_element\u001b[0;34m(self, obj, allow_tensor, allow_operation)\u001b[0m\n\u001b[1;32m   3476\u001b[0m \u001b[0;34m\u001b[0m\u001b[0m\n\u001b[1;32m   3477\u001b[0m     \u001b[0;32mwith\u001b[0m \u001b[0mself\u001b[0m\u001b[0;34m.\u001b[0m\u001b[0m_lock\u001b[0m\u001b[0;34m:\u001b[0m\u001b[0;34m\u001b[0m\u001b[0m\n\u001b[0;32m-> 3478\u001b[0;31m       \u001b[0;32mreturn\u001b[0m \u001b[0mself\u001b[0m\u001b[0;34m.\u001b[0m\u001b[0m_as_graph_element_locked\u001b[0m\u001b[0;34m(\u001b[0m\u001b[0mobj\u001b[0m\u001b[0;34m,\u001b[0m \u001b[0mallow_tensor\u001b[0m\u001b[0;34m,\u001b[0m \u001b[0mallow_operation\u001b[0m\u001b[0;34m)\u001b[0m\u001b[0;34m\u001b[0m\u001b[0m\n\u001b[0m\u001b[1;32m   3479\u001b[0m \u001b[0;34m\u001b[0m\u001b[0m\n\u001b[1;32m   3480\u001b[0m   \u001b[0;32mdef\u001b[0m \u001b[0m_as_graph_element_locked\u001b[0m\u001b[0;34m(\u001b[0m\u001b[0mself\u001b[0m\u001b[0;34m,\u001b[0m \u001b[0mobj\u001b[0m\u001b[0;34m,\u001b[0m \u001b[0mallow_tensor\u001b[0m\u001b[0;34m,\u001b[0m \u001b[0mallow_operation\u001b[0m\u001b[0;34m)\u001b[0m\u001b[0;34m:\u001b[0m\u001b[0;34m\u001b[0m\u001b[0m\n",
      "\u001b[0;32m/data/miniconda3/lib/python3.6/site-packages/tensorflow/python/framework/ops.py\u001b[0m in \u001b[0;36m_as_graph_element_locked\u001b[0;34m(self, obj, allow_tensor, allow_operation)\u001b[0m\n\u001b[1;32m   3565\u001b[0m       \u001b[0;31m# We give up!\u001b[0m\u001b[0;34m\u001b[0m\u001b[0;34m\u001b[0m\u001b[0m\n\u001b[1;32m   3566\u001b[0m       raise TypeError(\"Can not convert a %s into a %s.\" % (type(obj).__name__,\n\u001b[0;32m-> 3567\u001b[0;31m                                                            types_str))\n\u001b[0m\u001b[1;32m   3568\u001b[0m \u001b[0;34m\u001b[0m\u001b[0m\n\u001b[1;32m   3569\u001b[0m   \u001b[0;32mdef\u001b[0m \u001b[0mget_operations\u001b[0m\u001b[0;34m(\u001b[0m\u001b[0mself\u001b[0m\u001b[0;34m)\u001b[0m\u001b[0;34m:\u001b[0m\u001b[0;34m\u001b[0m\u001b[0m\n",
      "\u001b[0;31mTypeError\u001b[0m: Can not convert a Dense into a Tensor or Operation."
     ]
    }
   ],
   "source": [
    "# How does the encoding look?\n",
    "enc = K.function(model.model.input_layers,[z_mean,alpha])\n",
    "def encode(X):\n",
    "    z_mean, alpha = enc([X[np.newaxis,:]])\n",
    "    return alpha\n",
    "    return np.argmax(alpha)\n",
    "\n",
    "np.vstack(map(encode, x_train[1000:1100]))[:,4]"
   ]
  },
  {
   "cell_type": "code",
   "execution_count": null,
   "metadata": {},
   "outputs": [],
   "source": [
    "import keras.backend as K"
   ]
  },
  {
   "cell_type": "code",
   "execution_count": null,
   "metadata": {},
   "outputs": [],
   "source": [
    "1"
   ]
  },
  {
   "cell_type": "code",
   "execution_count": null,
   "metadata": {},
   "outputs": [],
   "source": [
    "\n",
    "\n"
   ]
  }
 ],
 "metadata": {
  "kernelspec": {
   "display_name": "Python 3",
   "language": "python",
   "name": "python3"
  },
  "language_info": {
   "codemirror_mode": {
    "name": "ipython",
    "version": 3
   },
   "file_extension": ".py",
   "mimetype": "text/x-python",
   "name": "python",
   "nbconvert_exporter": "python",
   "pygments_lexer": "ipython3",
   "version": "3.6.3"
  }
 },
 "nbformat": 4,
 "nbformat_minor": 2
}
