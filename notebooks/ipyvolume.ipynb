{
 "cells": [
  {
   "cell_type": "markdown",
   "metadata": {},
   "source": [
    "## Fetching data\n",
    "\n",
    "To obtain the data, you need the Google Cloud SDK from https://cloud.google.com/sdk/downloads .\n",
    "\n",
    "Now you can fetch the data with something like this\n",
    "```\n",
    "gcloud auth login\n",
    "# Opens a browser and prompts you to sign into the Google account registered with Rajat\n",
    "\n",
    "gsutil -m rsync -r gs://depi-dataset_01/  file:///home/myself/AION/depi\n",
    "# Fetches the data\n",
    "```\n",
    "\n",
    "## Setting up Jupyter\n",
    "\n",
    "I'm using MiniConda from https://conda.io/miniconda.html .\n",
    "\n",
    "```\n",
    "conda install -c conda-forge nipy ipyvolume ipywidgets\n",
    "```\n"
   ]
  },
  {
   "cell_type": "code",
   "execution_count": 8,
   "metadata": {},
   "outputs": [],
   "source": [
    "import numpy as np\n",
    "import ipyvolume as ipv\n",
    "import nipy\n",
    "import os"
   ]
  },
  {
   "cell_type": "code",
   "execution_count": 11,
   "metadata": {},
   "outputs": [],
   "source": [
    "def find_files(rootdir, substring):\n",
    "    for root, dirs, files in os.walk(rootdir):\n",
    "        for filename in files:\n",
    "            if filename.endswith(\".gz\"):\n",
    "                if substring is None or substring in filename:\n",
    "                    yield os.path.join(root, filename)"
   ]
  },
  {
   "cell_type": "code",
   "execution_count": 12,
   "metadata": {},
   "outputs": [],
   "source": [
    "DATA_DIR=\"/home/ben/sync/code/AION/depi\""
   ]
  },
  {
   "cell_type": "code",
   "execution_count": 15,
   "metadata": {},
   "outputs": [],
   "source": [
    "images = []\n",
    "for file in find_files(DATA_DIR, \"4mm\"):\n",
    "    images.append(nipy.load_image(file))"
   ]
  },
  {
   "cell_type": "code",
   "execution_count": 17,
   "metadata": {
    "scrolled": true
   },
   "outputs": [
    {
     "data": {
      "text/plain": [
       "2226"
      ]
     },
     "execution_count": 17,
     "metadata": {},
     "output_type": "execute_result"
    }
   ],
   "source": [
    "len(images)"
   ]
  },
  {
   "cell_type": "code",
   "execution_count": 27,
   "metadata": {},
   "outputs": [],
   "source": []
  },
  {
   "cell_type": "code",
   "execution_count": 34,
   "metadata": {},
   "outputs": [],
   "source": [
    "def showvol(V):\n",
    "    return ipv.quickvolshow(V, \n",
    "                     levels=(V.min(), 0, V.max()), \n",
    "                     opacity=0.03, \n",
    "                     lighting=True,\n",
    "                     level_width=0.1, \n",
    "                     data_min=V.min(), \n",
    "                     data_max=V.max())\n"
   ]
  },
  {
   "cell_type": "code",
   "execution_count": 35,
   "metadata": {},
   "outputs": [
    {
     "name": "stderr",
     "output_type": "stream",
     "text": [
      "/home/ben/miniconda3/lib/python3.6/site-packages/ipyvolume/serialize.py:66: RuntimeWarning: invalid value encountered in true_divide\n",
      "  gradient = gradient / np.sqrt(gradient[0]**2 + gradient[1]**2 + gradient[2]**2)\n"
     ]
    },
    {
     "data": {
      "application/vnd.jupyter.widget-view+json": {
       "model_id": "75ced3545a1d4779ae69e2579c15ca78",
       "version_major": 2,
       "version_minor": 0
      },
      "text/html": [
       "<p>Failed to display Jupyter Widget of type <code>VBox</code>.</p>\n",
       "<p>\n",
       "  If you're reading this message in the Jupyter Notebook or JupyterLab Notebook, it may mean\n",
       "  that the widgets JavaScript is still loading. If this message persists, it\n",
       "  likely means that the widgets JavaScript library is either not installed or\n",
       "  not enabled. See the <a href=\"https://ipywidgets.readthedocs.io/en/stable/user_install.html\">Jupyter\n",
       "  Widgets Documentation</a> for setup instructions.\n",
       "</p>\n",
       "<p>\n",
       "  If you're reading this message in another frontend (for example, a static\n",
       "  rendering on GitHub or <a href=\"https://nbviewer.jupyter.org/\">NBViewer</a>),\n",
       "  it may mean that your frontend doesn't currently support widgets.\n",
       "</p>\n"
      ],
      "text/plain": [
       "VBox(children=(VBox(children=(HBox(children=(Label(value='levels:'), FloatSlider(value=0.1, max=1.0, step=0.001), FloatSlider(value=0.5, max=1.0, step=0.001), FloatSlider(value=0.9, max=1.0, step=0.001))), HBox(children=(Label(value='opacities:'), FloatSlider(value=0.03, max=0.2, step=0.001), FloatSlider(value=0.03, max=0.2, step=0.001), FloatSlider(value=0.03, max=0.2, step=0.001))))), Figure(camera_center=[0.0, 0.0, 0.0], data_max=182.18568420410156, data_min=-23.93340492248535, height=500, matrix_projection=[0.0, 0.0, 0.0, 0.0, 0.0, 0.0, 0.0, 0.0, 0.0, 0.0, 0.0, 0.0, 0.0, 0.0, 0.0, 0.0], matrix_world=[0.0, 0.0, 0.0, 0.0, 0.0, 0.0, 0.0, 0.0, 0.0, 0.0, 0.0, 0.0, 0.0, 0.0, 0.0, 0.0], style={'axes': {'visible': True, 'label': {'color': 'black'}, 'ticklabel': {'color': 'black'}, 'color': 'black'}, 'box': {'visible': True}, 'background-color': 'white'}, tf=TransferFunctionWidgetJs3(level3=0.9, opacity1=0.03, opacity2=0.03, opacity3=0.03), volume_data=array([[[-0., -0., -0., ..., -0., -0.,  0.],\n",
       "        [ 0., -0., -0., ...,  0.,  0., -0.],\n",
       "        [-0.,  0.,  0., ...,  0.,  0.,  0.],\n",
       "        ..., \n",
       "        [ 0., -0.,  0., ..., -0.,  0.,  0.],\n",
       "        [ 0., -0., -0., ...,  0.,  0.,  0.],\n",
       "        [ 0.,  0., -0., ...,  0., -0., -0.]],\n",
       "\n",
       "       [[-0.,  0., -0., ..., -0., -0.,  0.],\n",
       "        [ 0.,  0.,  0., ...,  0.,  0.,  0.],\n",
       "        [-0., -0., -0., ..., -0., -0., -0.],\n",
       "        ..., \n",
       "        [ 0.,  0.,  0., ..., -0.,  0.,  0.],\n",
       "        [ 0., -0.,  0., ..., -0.,  0.,  0.],\n",
       "        [ 0.,  0.,  0., ..., -0., -0., -0.]],\n",
       "\n",
       "       [[ 0.,  0., -0., ..., -0., -0., -0.],\n",
       "        [-0.,  0., -0., ..., -0., -0.,  0.],\n",
       "        [ 0., -0., -0., ...,  0., -0., -0.],\n",
       "        ..., \n",
       "        [ 0., -0., -0., ..., -0., -0.,  0.],\n",
       "        [ 0.,  0.,  0., ...,  0.,  0.,  0.],\n",
       "        [ 0., -0.,  0., ...,  0.,  0.,  0.]],\n",
       "\n",
       "       ..., \n",
       "       [[-0., -0., -0., ...,  0.,  0., -0.],\n",
       "        [-0.,  0.,  0., ..., -0., -0., -0.],\n",
       "        [ 0.,  0.,  0., ...,  0.,  0.,  0.],\n",
       "        ..., \n",
       "        [-0.,  0.,  0., ...,  0., -0.,  0.],\n",
       "        [-0., -0., -0., ..., -0.,  0.,  0.],\n",
       "        [-0., -0.,  0., ...,  0., -0., -0.]],\n",
       "\n",
       "       [[ 0.,  0., -0., ..., -0.,  0.,  0.],\n",
       "        [-0., -0.,  0., ...,  0.,  0.,  0.],\n",
       "        [-0.,  0., -0., ..., -0., -0.,  0.],\n",
       "        ..., \n",
       "        [ 0.,  0.,  0., ...,  0.,  0.,  0.],\n",
       "        [ 0.,  0.,  0., ..., -0., -0.,  0.],\n",
       "        [ 0., -0., -0., ...,  0.,  0.,  0.]],\n",
       "\n",
       "       [[ 0., -0., -0., ...,  0., -0., -0.],\n",
       "        [-0., -0., -0., ...,  0., -0., -0.],\n",
       "        [ 0.,  0.,  0., ..., -0., -0.,  0.],\n",
       "        ..., \n",
       "        [-0.,  0.,  0., ..., -0., -0.,  0.],\n",
       "        [-0.,  0.,  0., ...,  0.,  0.,  0.],\n",
       "        [ 0., -0., -0., ..., -0.,  0., -0.]]], dtype=float32), width=400, xlim=[0.0, 1.0], ylim=[0.0, 1.0], zlim=[0.0, 1.0]), HBox(children=(FloatSlider(value=0.5, description='ambient', max=1.0, step=0.001), FloatSlider(value=0.8, description='diffuse', max=1.0, step=0.001))), HBox(children=(FloatSlider(value=0.5, description='specular', max=1.0, step=0.001), FloatSlider(value=5.0, description='specular exp', max=10.0, step=0.001)))))"
      ]
     },
     "metadata": {},
     "output_type": "display_data"
    }
   ],
   "source": [
    "showvol(images[5].get_data())"
   ]
  },
  {
   "cell_type": "code",
   "execution_count": 36,
   "metadata": {},
   "outputs": [
    {
     "name": "stderr",
     "output_type": "stream",
     "text": [
      "/home/ben/miniconda3/lib/python3.6/site-packages/ipyvolume/serialize.py:66: RuntimeWarning: invalid value encountered in true_divide\n",
      "  gradient = gradient / np.sqrt(gradient[0]**2 + gradient[1]**2 + gradient[2]**2)\n"
     ]
    },
    {
     "data": {
      "application/vnd.jupyter.widget-view+json": {
       "model_id": "ed580d3719a94ab4864d45c1f5cf0e0d",
       "version_major": 2,
       "version_minor": 0
      },
      "text/html": [
       "<p>Failed to display Jupyter Widget of type <code>VBox</code>.</p>\n",
       "<p>\n",
       "  If you're reading this message in the Jupyter Notebook or JupyterLab Notebook, it may mean\n",
       "  that the widgets JavaScript is still loading. If this message persists, it\n",
       "  likely means that the widgets JavaScript library is either not installed or\n",
       "  not enabled. See the <a href=\"https://ipywidgets.readthedocs.io/en/stable/user_install.html\">Jupyter\n",
       "  Widgets Documentation</a> for setup instructions.\n",
       "</p>\n",
       "<p>\n",
       "  If you're reading this message in another frontend (for example, a static\n",
       "  rendering on GitHub or <a href=\"https://nbviewer.jupyter.org/\">NBViewer</a>),\n",
       "  it may mean that your frontend doesn't currently support widgets.\n",
       "</p>\n"
      ],
      "text/plain": [
       "VBox(children=(VBox(children=(HBox(children=(Label(value='levels:'), FloatSlider(value=0.1, max=1.0, step=0.001), FloatSlider(value=0.5, max=1.0, step=0.001), FloatSlider(value=0.9, max=1.0, step=0.001))), HBox(children=(Label(value='opacities:'), FloatSlider(value=0.03, max=0.2, step=0.001), FloatSlider(value=0.03, max=0.2, step=0.001), FloatSlider(value=0.03, max=0.2, step=0.001))))), Figure(camera_center=[0.0, 0.0, 0.0], data_max=2871.507080078125, data_min=-253.79977416992188, height=500, matrix_projection=[0.0, 0.0, 0.0, 0.0, 0.0, 0.0, 0.0, 0.0, 0.0, 0.0, 0.0, 0.0, 0.0, 0.0, 0.0, 0.0], matrix_world=[0.0, 0.0, 0.0, 0.0, 0.0, 0.0, 0.0, 0.0, 0.0, 0.0, 0.0, 0.0, 0.0, 0.0, 0.0, 0.0], style={'axes': {'visible': True, 'label': {'color': 'black'}, 'ticklabel': {'color': 'black'}, 'color': 'black'}, 'box': {'visible': True}, 'background-color': 'white'}, tf=TransferFunctionWidgetJs3(level3=0.9, opacity1=0.03, opacity2=0.03, opacity3=0.03), volume_data=array([[[ 0.,  0.,  0., ...,  0.,  0.,  0.],\n",
       "        [ 0.,  0.,  0., ...,  0.,  0.,  0.],\n",
       "        [ 0.,  0.,  0., ...,  0.,  0.,  0.],\n",
       "        ..., \n",
       "        [-0., -0.,  0., ...,  0., -0.,  0.],\n",
       "        [ 0.,  0.,  0., ...,  0., -0., -0.],\n",
       "        [-0., -0., -0., ...,  0.,  0.,  0.]],\n",
       "\n",
       "       [[ 0.,  0.,  0., ...,  0.,  0.,  0.],\n",
       "        [ 0.,  0.,  0., ...,  0.,  0.,  0.],\n",
       "        [ 0.,  0.,  0., ...,  0.,  0.,  0.],\n",
       "        ..., \n",
       "        [ 0., -0., -0., ...,  0., -0., -0.],\n",
       "        [ 0.,  0.,  0., ...,  0., -0., -0.],\n",
       "        [-0., -0., -0., ..., -0., -0., -0.]],\n",
       "\n",
       "       [[ 0.,  0.,  0., ...,  0.,  0.,  0.],\n",
       "        [ 0.,  0.,  0., ...,  0.,  0.,  0.],\n",
       "        [ 0.,  0.,  0., ...,  0.,  0.,  0.],\n",
       "        ..., \n",
       "        [ 0., -0., -0., ..., -0., -0., -0.],\n",
       "        [-0.,  0.,  0., ...,  0.,  0., -0.],\n",
       "        [-0., -0., -0., ..., -0.,  0.,  0.]],\n",
       "\n",
       "       ..., \n",
       "       [[ 0.,  0.,  0., ...,  0.,  0.,  0.],\n",
       "        [ 0.,  0., -0., ...,  0.,  0.,  0.],\n",
       "        [ 0.,  0., -0., ...,  0., -0.,  0.],\n",
       "        ..., \n",
       "        [ 0., -0., -0., ..., -0.,  0.,  0.],\n",
       "        [ 0., -0., -0., ..., -0., -0.,  0.],\n",
       "        [ 0.,  0.,  0., ..., -0.,  0.,  0.]],\n",
       "\n",
       "       [[ 0.,  0.,  0., ...,  0.,  0.,  0.],\n",
       "        [ 0.,  0., -0., ...,  0.,  0.,  0.],\n",
       "        [-0., -0.,  0., ..., -0., -0.,  0.],\n",
       "        ..., \n",
       "        [-0.,  0., -0., ..., -0., -0.,  0.],\n",
       "        [-0.,  0.,  0., ..., -0.,  0.,  0.],\n",
       "        [ 0.,  0.,  0., ...,  0.,  0.,  0.]],\n",
       "\n",
       "       [[ 0.,  0.,  0., ...,  0.,  0.,  0.],\n",
       "        [-0., -0., -0., ...,  0.,  0.,  0.],\n",
       "        [-0., -0.,  0., ...,  0.,  0.,  0.],\n",
       "        ..., \n",
       "        [ 0.,  0.,  0., ..., -0., -0.,  0.],\n",
       "        [ 0.,  0.,  0., ...,  0.,  0.,  0.],\n",
       "        [-0.,  0.,  0., ...,  0., -0.,  0.]]], dtype=float32), width=400, xlim=[0.0, 1.0], ylim=[0.0, 1.0], zlim=[0.0, 1.0]), HBox(children=(FloatSlider(value=0.5, description='ambient', max=1.0, step=0.001), FloatSlider(value=0.8, description='diffuse', max=1.0, step=0.001))), HBox(children=(FloatSlider(value=0.5, description='specular', max=1.0, step=0.001), FloatSlider(value=5.0, description='specular exp', max=10.0, step=0.001)))))"
      ]
     },
     "metadata": {},
     "output_type": "display_data"
    }
   ],
   "source": [
    "showvol(images[6].get_data())"
   ]
  },
  {
   "cell_type": "code",
   "execution_count": null,
   "metadata": {},
   "outputs": [],
   "source": []
  }
 ],
 "metadata": {
  "kernelspec": {
   "display_name": "Python 3",
   "language": "python",
   "name": "python3"
  },
  "language_info": {
   "codemirror_mode": {
    "name": "ipython",
    "version": 3
   },
   "file_extension": ".py",
   "mimetype": "text/x-python",
   "name": "python",
   "nbconvert_exporter": "python",
   "pygments_lexer": "ipython3",
   "version": "3.6.3"
  }
 },
 "nbformat": 4,
 "nbformat_minor": 2
}
