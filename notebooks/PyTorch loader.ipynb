{
 "cells": [
  {
   "cell_type": "markdown",
   "metadata": {},
   "source": [
    "Making a Dataset for the DEPI data following http://pytorch.org/tutorials/beginner/data_loading_tutorial.html\n",
    "\n",
    "Download the data with `gsutil` first, and call DepiDataset with the root directory.  You can filter the loaded data to just 4mm or 2mm data."
   ]
  },
  {
   "cell_type": "code",
   "execution_count": 99,
   "metadata": {},
   "outputs": [],
   "source": [
    "import os.path\n",
    "import pathlib\n",
    "import numpy as np\n",
    "\n",
    "import torch\n",
    "from torch.utils.data import Dataset, DataLoader\n",
    "from torchvision import transforms\n",
    "\n",
    "import nibabel"
   ]
  },
  {
   "cell_type": "code",
   "execution_count": 108,
   "metadata": {},
   "outputs": [],
   "source": [
    "class DepiDataset(Dataset):\n",
    "    LABELS = {'CON': np.array([0], 'uint8'),\n",
    "              'ASD': np.array([1], 'uint8')}\n",
    "    \n",
    "    @staticmethod\n",
    "    def find_files(rootdir, substring):\n",
    "        for root, dirs, files in os.walk(rootdir):\n",
    "            for filename in files:\n",
    "                if filename.endswith(\".gz\"):\n",
    "                    if substring is None or \\\n",
    "                        substring in filename:\n",
    "                        yield os.path.join(root, filename)\n",
    "\n",
    "    def __init__(self, datadir, substring=None, transform=None):\n",
    "        self.filenames = list(self.find_files(datadir, substring))\n",
    "        self.labels = [os.path.basename(filename)[8:11] for filename in self.filenames]\n",
    "        self.images = [nibabel.load(filename)\n",
    "                       for filename in self.filenames]\n",
    "        self.transform = transform\n",
    "    \n",
    "    def __len__(self):\n",
    "        return len(self.images)\n",
    "    \n",
    "    def get_label(self, num):\n",
    "        path = pathlib.Path(self.filenames[num])\n",
    "        for part in path.parts:\n",
    "            if part.startswith(\"subject_\"):\n",
    "                return self.LABELS[part[8:11]]\n",
    "        raise ValueError(\"Couldn't find label for {}\".format(self.filenames[num]))\n",
    "    \n",
    "    def __getitem__(self, num):\n",
    "        result = self.images[num].get_data(), self.get_label(num)\n",
    "        if self.transform is not None:\n",
    "            result = self.transform(result)\n",
    "        return result"
   ]
  },
  {
   "cell_type": "code",
   "execution_count": null,
   "metadata": {},
   "outputs": [],
   "source": []
  },
  {
   "cell_type": "markdown",
   "metadata": {},
   "source": [
    "Creating some transformations."
   ]
  },
  {
   "cell_type": "code",
   "execution_count": 112,
   "metadata": {},
   "outputs": [],
   "source": [
    "# I don't think we'll need this one, \n",
    "# but just to show the idea of a parametric transform:\n",
    "class Threshold(object):\n",
    "    def __init__(self, threshold_fraction=0.001):\n",
    "        self.threshold_fraction = threshold_fraction\n",
    "        \n",
    "    def __call__(self, sample):\n",
    "        ndarray, label = sample\n",
    "        return np.where(np.abs(ndarray)>self.threshold_fraction, \n",
    "                        ndarray, 0), label\n"
   ]
  },
  {
   "cell_type": "code",
   "execution_count": 103,
   "metadata": {},
   "outputs": [],
   "source": [
    "class Normalize(object):\n",
    "    def __call__(self, sample):\n",
    "        ndarray, label = sample\n",
    "        return ndarray / ndarray.max(), label"
   ]
  },
  {
   "cell_type": "code",
   "execution_count": 104,
   "metadata": {},
   "outputs": [],
   "source": [
    "class ToTensor(object):\n",
    "    \"\"\"Convert ndarrays in sample to Tensors.\"\"\"\n",
    "\n",
    "    def __call__(self, sample):\n",
    "        image, labels = sample\n",
    " \n",
    "        return torch.from_numpy(image), torch.from_numpy(labels)"
   ]
  },
  {
   "cell_type": "code",
   "execution_count": 109,
   "metadata": {},
   "outputs": [],
   "source": [
    "dataset = DepiDataset(\"../../depi\", \"4mm\", \n",
    "                      transform=transforms.Compose([Threshold(), \n",
    "                                                    Normalize(),\n",
    "                                                    ToTensor()]))"
   ]
  },
  {
   "cell_type": "code",
   "execution_count": 110,
   "metadata": {},
   "outputs": [],
   "source": [
    "dataloader = DataLoader(dataset, batch_size=4,\n",
    "                        shuffle=True, num_workers=4)\n"
   ]
  },
  {
   "cell_type": "code",
   "execution_count": 122,
   "metadata": {},
   "outputs": [],
   "source": [
    "#for index, (images, labels) in enumerate(dataloader):\n",
    "#    print(index, labels)"
   ]
  },
  {
   "cell_type": "code",
   "execution_count": null,
   "metadata": {},
   "outputs": [],
   "source": []
  }
 ],
 "metadata": {
  "kernelspec": {
   "display_name": "Python 3",
   "language": "python",
   "name": "python3"
  },
  "language_info": {
   "codemirror_mode": {
    "name": "ipython",
    "version": 3
   },
   "file_extension": ".py",
   "mimetype": "text/x-python",
   "name": "python",
   "nbconvert_exporter": "python",
   "pygments_lexer": "ipython3",
   "version": "3.6.3"
  }
 },
 "nbformat": 4,
 "nbformat_minor": 2
}
