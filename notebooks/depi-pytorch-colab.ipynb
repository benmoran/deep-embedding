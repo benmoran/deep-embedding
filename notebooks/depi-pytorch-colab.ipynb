{
 "cells": [
  {
   "cell_type": "markdown",
   "metadata": {
    "colab_type": "text",
    "id": "QxCpUqo8pYi_"
   },
   "source": [
    "# DEPI data with PyTorch in Google Colaboratory"
   ]
  },
  {
   "cell_type": "markdown",
   "metadata": {
    "colab_type": "text",
    "id": "Rwcv38hIp4Q8"
   },
   "source": [
    "### Aims of this setup\n",
    "\n",
    "   \n",
    "The aim is to use Colaboratory, http://colab.research.google.com/ with the GPU runtime (since these give us free access to time on Nvidia K80 cards, up to 12 hours at a time).  \n",
    "\n",
    "We'll then be able to run each others' models on the real data, evaluate, make changes, and send patches.\n",
    "\n",
    "\n",
    " - Your Google Drive should contain:\n",
    "   - an upload this notebook\n",
    "   - an upload of the data folder, via:\n",
    "     - `gsutil -m rsync -r gs://depi-dataset_01 depi`\n",
    "   \n",
    " - The notebook checks out other required sources from Github\n",
    "\n"
   ]
  },
  {
   "cell_type": "markdown",
   "metadata": {
    "colab_type": "text",
    "id": "uvbaeTVGuCmw"
   },
   "source": [
    "### Colaboratory environment\n",
    "\n",
    "Colaboratory is a proprietary Google fork of Jupyter Notebook, running on their servers.\n",
    "\n",
    "- We can run shell commands with `!`.\n",
    "- We can install software with `apt` and `pip`.\n",
    "- There's a local disk that doesn't persist, under the current directory `/content`\n",
    "- We can mount Google Drive using FUSE (see below). \n",
    "- We can add locally mounted directories to Python's `sys.path` (if we use absolute pathnames, and trailing slashes)."
   ]
  },
  {
   "cell_type": "markdown",
   "metadata": {
    "colab_type": "text",
    "id": "vn06BfQVpRzB"
   },
   "source": [
    "## Accessing files (Google Drive via FUSE)"
   ]
  },
  {
   "cell_type": "markdown",
   "metadata": {
    "colab_type": "text",
    "id": "DFWxGKwKsAu2"
   },
   "source": [
    "These tricks to make Google Drive look like an ordinary file system are taken from here:\n",
    "\n",
    "- https://colab.research.google.com/notebook#fileId=1srw_HFWQ2SMgmWIawucXfusGzrj1_U0q&scrollTo=c99EvWo1s9-x"
   ]
  },
  {
   "cell_type": "code",
   "execution_count": 10,
   "metadata": {
    "colab": {
     "autoexec": {
      "startup": false,
      "wait_interval": 0
     },
     "base_uri": "https://localhost:8080/",
     "height": 141,
     "output_extras": [
      {
       "item_id": 4
      }
     ]
    },
    "colab_type": "code",
    "collapsed": false,
    "executionInfo": {
     "elapsed": 9336,
     "status": "ok",
     "timestamp": 1517746443657,
     "user": {
      "displayName": "Ben Moran",
      "photoUrl": "https://lh3.googleusercontent.com/a/default-user=s128",
      "userId": "106335444602864774215"
     },
     "user_tz": 0
    },
    "id": "4eA20yTCoIvJ",
    "outputId": "51bf9412-5801-4a27-c41b-bceaf9622ba2"
   },
   "outputs": [
    {
     "name": "stdout",
     "output_type": "stream",
     "text": [
      "gpg: keybox '/tmp/tmpmbx9zahf/pubring.gpg' created\n",
      "gpg: /tmp/tmpmbx9zahf/trustdb.gpg: trustdb created\n",
      "gpg: key AD5F235DF639B041: public key \"Launchpad PPA for Alessandro Strada\" imported\n",
      "gpg: Total number processed: 1\n",
      "gpg:               imported: 1\n",
      "Warning: apt-key output should not be parsed (stdout is not a terminal)\n"
     ]
    }
   ],
   "source": [
    "# Install a Drive FUSE wrapper.\n",
    "# https://github.com/astrada/google-drive-ocamlfuse\n",
    "!apt-get install -y -qq software-properties-common python-software-properties module-init-tools\n",
    "!add-apt-repository -y ppa:alessandro-strada/ppa 2>&1 > /dev/null\n",
    "!apt-get update -qq 2>&1 > /dev/null\n",
    "!apt-get -y install -qq google-drive-ocamlfuse fuse"
   ]
  },
  {
   "cell_type": "code",
   "execution_count": 0,
   "metadata": {
    "colab": {
     "autoexec": {
      "startup": false,
      "wait_interval": 0
     }
    },
    "colab_type": "code",
    "collapsed": true,
    "id": "AooG14HSoT3n"
   },
   "outputs": [],
   "source": [
    "# Generate auth tokens for Colab\n",
    "from google.colab import auth\n",
    "auth.authenticate_user()"
   ]
  },
  {
   "cell_type": "code",
   "execution_count": 0,
   "metadata": {
    "colab": {
     "autoexec": {
      "startup": false,
      "wait_interval": 0
     }
    },
    "colab_type": "code",
    "collapsed": true,
    "id": "RtLLxOZDoWxb"
   },
   "outputs": [],
   "source": [
    "# Generate creds for the Drive FUSE library.\n",
    "from oauth2client.client import GoogleCredentials\n",
    "creds = GoogleCredentials.get_application_default()\n",
    "import getpass\n",
    "!google-drive-ocamlfuse -headless -id={creds.client_id} -secret={creds.client_secret} < /dev/null 2>&1 | grep URL\n",
    "vcode = getpass.getpass()\n",
    "!echo {vcode} | google-drive-ocamlfuse -headless -id={creds.client_id} -secret={creds.client_secret}"
   ]
  },
  {
   "cell_type": "code",
   "execution_count": 0,
   "metadata": {
    "colab": {
     "autoexec": {
      "startup": false,
      "wait_interval": 0
     },
     "base_uri": "https://localhost:8080/",
     "height": 52,
     "output_extras": [
      {}
     ]
    },
    "colab_type": "code",
    "collapsed": false,
    "executionInfo": {
     "elapsed": 1424,
     "status": "ok",
     "timestamp": 1517694115255,
     "user": {
      "displayName": "Theo Sdad",
      "photoUrl": "https://lh3.googleusercontent.com/a/default-user=s128",
      "userId": "115280782544631233818"
     },
     "user_tz": 0
    },
    "id": "xrJ7WPqJokc3",
    "outputId": "3b9fe952-792b-47e3-9532-2bbfb448b398"
   },
   "outputs": [
    {
     "name": "stdout",
     "output_type": "stream",
     "text": [
      "fuse: mountpoint is not empty\r\n",
      "fuse: if you are sure this is safe, use the 'nonempty' mount option\r\n"
     ]
    }
   ],
   "source": [
    "# Create a directory and mount Google Drive using that directory.\n",
    "!mkdir -p drive\n",
    "!google-drive-ocamlfuse drive\n"
   ]
  },
  {
   "cell_type": "code",
   "execution_count": 19,
   "metadata": {
    "colab": {
     "autoexec": {
      "startup": false,
      "wait_interval": 0
     },
     "base_uri": "https://localhost:8080/",
     "height": 52,
     "output_extras": [
      {
       "item_id": 1
      }
     ]
    },
    "colab_type": "code",
    "collapsed": false,
    "executionInfo": {
     "elapsed": 1039,
     "status": "ok",
     "timestamp": 1517746598882,
     "user": {
      "displayName": "Ben Moran",
      "photoUrl": "https://lh3.googleusercontent.com/a/default-user=s128",
      "userId": "106335444602864774215"
     },
     "user_tz": 0
    },
    "id": "EO-VUiyuosOu",
    "outputId": "28c5b945-6d86-4fba-9de7-4e6576431d7f"
   },
   "outputs": [
    {
     "name": "stdout",
     "output_type": "stream",
     "text": [
      "Files in Drive:\n",
      "deep-embedding\tdepi\r\n"
     ]
    }
   ],
   "source": [
    "print('Files in Drive:')\n",
    "!ls drive/DEPI\n",
    "\n",
    "# Create a file in Drive.\n",
    "!echo \"This newly created file will appear in your Drive file list.\" > drive/created.txt"
   ]
  },
  {
   "cell_type": "markdown",
   "metadata": {},
   "source": [
    "## Downloading source"
   ]
  },
  {
   "cell_type": "code",
   "execution_count": null,
   "metadata": {
    "collapsed": true
   },
   "outputs": [],
   "source": [
    "#!git clone https://github.com/AI-ON/deep-embedding\n",
    "\n",
    "!git clone https://github.com/benmoran/deep-embedding@colab"
   ]
  },
  {
   "cell_type": "markdown",
   "metadata": {
    "colab_type": "text",
    "id": "Wf2ERp95pI1P"
   },
   "source": [
    "## Installing dependencies"
   ]
  },
  {
   "cell_type": "code",
   "execution_count": 6,
   "metadata": {
    "colab": {
     "autoexec": {
      "startup": false,
      "wait_interval": 0
     },
     "base_uri": "https://localhost:8080/",
     "height": 52,
     "output_extras": [
      {
       "item_id": 1
      }
     ]
    },
    "colab_type": "code",
    "collapsed": false,
    "executionInfo": {
     "elapsed": 2120,
     "status": "ok",
     "timestamp": 1517746397829,
     "user": {
      "displayName": "Ben Moran",
      "photoUrl": "https://lh3.googleusercontent.com/a/default-user=s128",
      "userId": "106335444602864774215"
     },
     "user_tz": 0
    },
    "id": "tXyzhhp42i3u",
    "outputId": "fe41cb2f-3b99-4e2d-e236-3ca9af52d5b2"
   },
   "outputs": [
    {
     "name": "stdout",
     "output_type": "stream",
     "text": [
      "Uninstalling Pillow-5.0.0:\r\n",
      "  Successfully uninstalled Pillow-5.0.0\r\n"
     ]
    }
   ],
   "source": [
    "!pip uninstall -y pillow"
   ]
  },
  {
   "cell_type": "code",
   "execution_count": 7,
   "metadata": {
    "colab": {
     "autoexec": {
      "startup": false,
      "wait_interval": 0
     },
     "base_uri": "https://localhost:8080/",
     "height": 34,
     "output_extras": [
      {
       "item_id": 1
      }
     ]
    },
    "colab_type": "code",
    "collapsed": false,
    "executionInfo": {
     "elapsed": 1533,
     "status": "ok",
     "timestamp": 1517746400104,
     "user": {
      "displayName": "Ben Moran",
      "photoUrl": "https://lh3.googleusercontent.com/a/default-user=s128",
      "userId": "106335444602864774215"
     },
     "user_tz": 0
    },
    "id": "DhsM5FOL3Jzf",
    "outputId": "7c953e8e-b88d-4505-ff9d-aeda83a67b1e"
   },
   "outputs": [
    {
     "name": "stdout",
     "output_type": "stream",
     "text": [
      "\u001b[31mCannot uninstall requirement pillow, not installed\u001b[0m\r\n"
     ]
    }
   ],
   "source": [
    "!pip2 uninstall -y pillow"
   ]
  },
  {
   "cell_type": "code",
   "execution_count": 8,
   "metadata": {
    "colab": {
     "autoexec": {
      "startup": false,
      "wait_interval": 0
     },
     "base_uri": "https://localhost:8080/",
     "height": 89,
     "output_extras": [
      {
       "item_id": 1
      }
     ]
    },
    "colab_type": "code",
    "collapsed": false,
    "executionInfo": {
     "elapsed": 1985,
     "status": "ok",
     "timestamp": 1517746403310,
     "user": {
      "displayName": "Ben Moran",
      "photoUrl": "https://lh3.googleusercontent.com/a/default-user=s128",
      "userId": "106335444602864774215"
     },
     "user_tz": 0
    },
    "id": "lyKkst-Uhh5v",
    "outputId": "22a4afcd-9223-461e-d90b-0f2aee39b638"
   },
   "outputs": [
    {
     "name": "stdout",
     "output_type": "stream",
     "text": [
      "Requirement already satisfied: torch==0.3.0.post4 from http://download.pytorch.org/whl/cu80/torch-0.3.0.post4-cp36-cp36m-linux_x86_64.whl in /usr/local/lib/python3.6/dist-packages\r\n",
      "Requirement already satisfied: pyyaml in /usr/local/lib/python3.6/dist-packages (from torch==0.3.0.post4)\r\n",
      "Requirement already satisfied: numpy in /usr/local/lib/python3.6/dist-packages (from torch==0.3.0.post4)\r\n"
     ]
    }
   ],
   "source": [
    "!pip3 install http://download.pytorch.org/whl/cu80/torch-0.3.0.post4-cp36-cp36m-linux_x86_64.whl \n"
   ]
  },
  {
   "cell_type": "code",
   "execution_count": 9,
   "metadata": {
    "colab": {
     "autoexec": {
      "startup": false,
      "wait_interval": 0
     },
     "base_uri": "https://localhost:8080/",
     "height": 384,
     "output_extras": [
      {
       "item_id": 6
      }
     ]
    },
    "colab_type": "code",
    "collapsed": false,
    "executionInfo": {
     "elapsed": 6668,
     "status": "ok",
     "timestamp": 1517746412079,
     "user": {
      "displayName": "Ben Moran",
      "photoUrl": "https://lh3.googleusercontent.com/a/default-user=s128",
      "userId": "106335444602864774215"
     },
     "user_tz": 0
    },
    "id": "U_mB3psAh4e1",
    "outputId": "aee181d1-fc16-479e-fd4f-a622514b63b6"
   },
   "outputs": [
    {
     "name": "stdout",
     "output_type": "stream",
     "text": [
      "Requirement already satisfied: torchvision in /usr/local/lib/python3.6/dist-packages\r\n",
      "Requirement already satisfied: torch in /usr/local/lib/python3.6/dist-packages (from torchvision)\r\n",
      "Requirement already satisfied: numpy in /usr/local/lib/python3.6/dist-packages (from torchvision)\n",
      "Collecting pillow>=4.1.1 (from torchvision)\n",
      "  Using cached Pillow-5.0.0-cp36-cp36m-manylinux1_x86_64.whl\n",
      "Requirement already satisfied: six in /usr/local/lib/python3.6/dist-packages (from torchvision)\n",
      "Requirement already satisfied: pyyaml in /usr/local/lib/python3.6/dist-packages (from torch->torchvision)\n",
      "Installing collected packages: pillow\n",
      "Successfully installed pillow-5.0.0\n",
      "Requirement already satisfied: PyDrive in /usr/local/lib/python3.6/dist-packages\n",
      "Requirement already satisfied: google-api-python-client>=1.2 in /usr/local/lib/python3.6/dist-packages (from PyDrive)\n",
      "Requirement already satisfied: oauth2client>=4.0.0 in /usr/local/lib/python3.6/dist-packages (from PyDrive)\n",
      "Requirement already satisfied: PyYAML>=3.0 in /usr/local/lib/python3.6/dist-packages (from PyDrive)\n",
      "Requirement already satisfied: six<2dev,>=1.6.1 in /usr/local/lib/python3.6/dist-packages (from google-api-python-client>=1.2->PyDrive)\n",
      "Requirement already satisfied: uritemplate<4dev,>=3.0.0 in /usr/local/lib/python3.6/dist-packages (from google-api-python-client>=1.2->PyDrive)\n",
      "Requirement already satisfied: httplib2<1dev,>=0.9.2 in /usr/local/lib/python3.6/dist-packages (from google-api-python-client>=1.2->PyDrive)\n",
      "Requirement already satisfied: pyasn1-modules>=0.0.5 in /usr/local/lib/python3.6/dist-packages (from oauth2client>=4.0.0->PyDrive)\n",
      "Requirement already satisfied: rsa>=3.1.4 in /usr/local/lib/python3.6/dist-packages (from oauth2client>=4.0.0->PyDrive)\n",
      "Requirement already satisfied: pyasn1>=0.1.7 in /usr/local/lib/python3.6/dist-packages (from oauth2client>=4.0.0->PyDrive)\n",
      "Requirement already satisfied: nibabel in /usr/local/lib/python3.6/dist-packages\n"
     ]
    }
   ],
   "source": [
    "!pip install torchvision\n",
    "!pip install PyDrive\n",
    "!pip install nibabel"
   ]
  },
  {
   "cell_type": "code",
   "execution_count": 18,
   "metadata": {
    "colab": {
     "autoexec": {
      "startup": false,
      "wait_interval": 0
     },
     "base_uri": "https://localhost:8080/",
     "height": 288,
     "output_extras": [
      {
       "item_id": 1
      }
     ]
    },
    "colab_type": "code",
    "collapsed": false,
    "executionInfo": {
     "elapsed": 483,
     "status": "error",
     "timestamp": 1517744698569,
     "user": {
      "displayName": "Ben Moran",
      "photoUrl": "https://lh3.googleusercontent.com/a/default-user=s128",
      "userId": "106335444602864774215"
     },
     "user_tz": 0
    },
    "id": "hlakMWEt2Pqb",
    "outputId": "0c6c43dc-e46c-4fc7-821a-10b2dc4638f3"
   },
   "outputs": [
    {
     "ename": "AttributeError",
     "evalue": "ignored",
     "output_type": "error",
     "traceback": [
      "\u001b[0;31m---------------------------------------------------------------------------\u001b[0m",
      "\u001b[0;31mAttributeError\u001b[0m                            Traceback (most recent call last)",
      "\u001b[0;32m<ipython-input-18-2c9c017eebf4>\u001b[0m in \u001b[0;36m<module>\u001b[0;34m()\u001b[0m\n\u001b[0;32m----> 1\u001b[0;31m \u001b[0;32mimport\u001b[0m \u001b[0mPIL\u001b[0m\u001b[0;34m.\u001b[0m\u001b[0mTiffImagePlugin\u001b[0m \u001b[0;31m# check\u001b[0m\u001b[0;34m\u001b[0m\u001b[0m\n\u001b[0m",
      "\u001b[0;32m/usr/local/lib/python3.6/dist-packages/PIL/TiffImagePlugin.py\u001b[0m in \u001b[0;36m<module>\u001b[0;34m()\u001b[0m\n\u001b[1;32m   1813\u001b[0m \u001b[0mImage\u001b[0m\u001b[0;34m.\u001b[0m\u001b[0mregister_save_all\u001b[0m\u001b[0;34m(\u001b[0m\u001b[0mTiffImageFile\u001b[0m\u001b[0;34m.\u001b[0m\u001b[0mformat\u001b[0m\u001b[0;34m,\u001b[0m \u001b[0m_save_all\u001b[0m\u001b[0;34m)\u001b[0m\u001b[0;34m\u001b[0m\u001b[0m\n\u001b[1;32m   1814\u001b[0m \u001b[0;34m\u001b[0m\u001b[0m\n\u001b[0;32m-> 1815\u001b[0;31m \u001b[0mImage\u001b[0m\u001b[0;34m.\u001b[0m\u001b[0mregister_extensions\u001b[0m\u001b[0;34m(\u001b[0m\u001b[0mTiffImageFile\u001b[0m\u001b[0;34m.\u001b[0m\u001b[0mformat\u001b[0m\u001b[0;34m,\u001b[0m \u001b[0;34m[\u001b[0m\u001b[0;34m\".tif\"\u001b[0m\u001b[0;34m,\u001b[0m \u001b[0;34m\".tiff\"\u001b[0m\u001b[0;34m]\u001b[0m\u001b[0;34m)\u001b[0m\u001b[0;34m\u001b[0m\u001b[0m\n\u001b[0m\u001b[1;32m   1816\u001b[0m \u001b[0;34m\u001b[0m\u001b[0m\n\u001b[1;32m   1817\u001b[0m \u001b[0mImage\u001b[0m\u001b[0;34m.\u001b[0m\u001b[0mregister_mime\u001b[0m\u001b[0;34m(\u001b[0m\u001b[0mTiffImageFile\u001b[0m\u001b[0;34m.\u001b[0m\u001b[0mformat\u001b[0m\u001b[0;34m,\u001b[0m \u001b[0;34m\"image/tiff\"\u001b[0m\u001b[0;34m)\u001b[0m\u001b[0;34m\u001b[0m\u001b[0m\n",
      "\u001b[0;31mAttributeError\u001b[0m: module 'PIL.Image' has no attribute 'register_extensions'"
     ]
    }
   ],
   "source": [
    "import PIL.TiffImagePlugin # check"
   ]
  },
  {
   "cell_type": "markdown",
   "metadata": {
    "colab_type": "text",
    "id": "ZmhQCTszrNzT"
   },
   "source": [
    "## TODO items\n",
    "\n",
    "- How long does the DepiDataset step take? Can we time it?\n",
    "- How to see RAM, GPU memory, CPU, GPU usage? How many cores? Equivalent of `nvidia-smi`?\n",
    "- Will FUSE-mounted Google Drive be too slow to run Git practically?\n"
   ]
  },
  {
   "cell_type": "markdown",
   "metadata": {
    "colab_type": "text",
    "id": "-kcF9Ci6sRQL"
   },
   "source": [
    "# Running a model"
   ]
  },
  {
   "cell_type": "code",
   "execution_count": 43,
   "metadata": {
    "colab": {
     "autoexec": {
      "startup": false,
      "wait_interval": 0
     },
     "base_uri": "https://localhost:8080/",
     "height": 34,
     "output_extras": [
      {
       "item_id": 1
      }
     ]
    },
    "colab_type": "code",
    "collapsed": false,
    "executionInfo": {
     "elapsed": 643,
     "status": "ok",
     "timestamp": 1517747306885,
     "user": {
      "displayName": "Ben Moran",
      "photoUrl": "https://lh3.googleusercontent.com/a/default-user=s128",
      "userId": "106335444602864774215"
     },
     "user_tz": 0
    },
    "id": "M4kwHSr7KlQR",
    "outputId": "3442c319-5aba-46e2-f49d-8aba6bc455df"
   },
   "outputs": [
    {
     "name": "stdout",
     "output_type": "stream",
     "text": [
      "deep-embedding\tdepi\r\n"
     ]
    }
   ],
   "source": [
    "# Check we have the Google Drive mount\n",
    "# We should see deep-embedding source and the depi data.\n",
    "!ls /content/drive/DEPI"
   ]
  },
  {
   "cell_type": "code",
   "execution_count": 41,
   "metadata": {
    "colab": {
     "autoexec": {
      "startup": false,
      "wait_interval": 0
     },
     "base_uri": "https://localhost:8080/",
     "height": 332,
     "output_extras": [
      {
       "item_id": 1
      }
     ]
    },
    "colab_type": "code",
    "collapsed": false,
    "executionInfo": {
     "elapsed": 655,
     "status": "ok",
     "timestamp": 1517747253685,
     "user": {
      "displayName": "Ben Moran",
      "photoUrl": "https://lh3.googleusercontent.com/a/default-user=s128",
      "userId": "106335444602864774215"
     },
     "user_tz": 0
    },
    "id": "kS5sfaL6x8Wo",
    "outputId": "c95fb6a0-8fd6-4985-f1e4-72037df3bf98"
   },
   "outputs": [
    {
     "name": "stdout",
     "output_type": "stream",
     "text": [
      "Sun Feb  4 12:27:33 2018       \r\n",
      "+-----------------------------------------------------------------------------+\r\n",
      "| NVIDIA-SMI 375.51                 Driver Version: 375.51                    |\r\n",
      "|-------------------------------+----------------------+----------------------+\r\n",
      "| GPU  Name        Persistence-M| Bus-Id        Disp.A | Volatile Uncorr. ECC |\r\n",
      "| Fan  Temp  Perf  Pwr:Usage/Cap|         Memory-Usage | GPU-Util  Compute M. |\r\n",
      "|===============================+======================+======================|\r\n",
      "|   0  Tesla K80           Off  | 0000:00:04.0     Off |                    0 |\r\n",
      "| N/A   35C    P8    28W / 149W |      2MiB / 11439MiB |      0%      Default |\r\n",
      "+-------------------------------+----------------------+----------------------+\r\n",
      "                                                                               \r\n",
      "+-----------------------------------------------------------------------------+\r\n",
      "| Processes:                                                       GPU Memory |\r\n",
      "|  GPU       PID  Type  Process name                               Usage      |\r\n",
      "|=============================================================================|\r\n",
      "|  No running processes found                                                 |\r\n",
      "+-----------------------------------------------------------------------------+\r\n"
     ]
    }
   ],
   "source": [
    "# We can see running processes using the GPU with nvidia-smi:\n",
    "!/opt/bin/nvidia-smi"
   ]
  },
  {
   "cell_type": "code",
   "execution_count": 44,
   "metadata": {
    "colab": {
     "autoexec": {
      "startup": false,
      "wait_interval": 0
     },
     "base_uri": "https://localhost:8080/",
     "height": 34,
     "output_extras": [
      {
       "item_id": 1
      }
     ]
    },
    "colab_type": "code",
    "collapsed": false,
    "executionInfo": {
     "elapsed": 666,
     "status": "ok",
     "timestamp": 1517747330255,
     "user": {
      "displayName": "Ben Moran",
      "photoUrl": "https://lh3.googleusercontent.com/a/default-user=s128",
      "userId": "106335444602864774215"
     },
     "user_tz": 0
    },
    "id": "XptuKj9FoCpA",
    "outputId": "36fcadf5-d835-441b-af6a-f9b7fa3d2b52"
   },
   "outputs": [
    {
     "name": "stdout",
     "output_type": "stream",
     "text": [
      "Clearing cache...done\r\n"
     ]
    }
   ],
   "source": [
    "# Clear the Google Drive cache to pick up changes made remotely?\n",
    "# Not sure if this is necessary.\n",
    "!google-drive-ocamlfuse -cc"
   ]
  },
  {
   "cell_type": "code",
   "execution_count": 0,
   "metadata": {
    "colab": {
     "autoexec": {
      "startup": false,
      "wait_interval": 0
     }
    },
    "colab_type": "code",
    "collapsed": true,
    "id": "18saxbevGiur"
   },
   "outputs": [],
   "source": [
    "import sys, os\n",
    "sys.path.append(\"/content/drive/DEPI/deep-embedding/pytorch/\") # Colab has trouble with relative paths here!"
   ]
  },
  {
   "cell_type": "code",
   "execution_count": 46,
   "metadata": {
    "colab": {
     "autoexec": {
      "startup": false,
      "wait_interval": 0
     },
     "base_uri": "https://localhost:8080/",
     "height": 34,
     "output_extras": [
      {
       "item_id": 1
      }
     ]
    },
    "colab_type": "code",
    "collapsed": false,
    "executionInfo": {
     "elapsed": 1523,
     "status": "ok",
     "timestamp": 1517747333739,
     "user": {
      "displayName": "Ben Moran",
      "photoUrl": "https://lh3.googleusercontent.com/a/default-user=s128",
      "userId": "106335444602864774215"
     },
     "user_tz": 0
    },
    "id": "L4qXPEVbwRSw",
    "outputId": "f1204c8e-6840-479a-b66e-76a8458c5f82"
   },
   "outputs": [
    {
     "name": "stdout",
     "output_type": "stream",
     "text": [
      "depiloader.py  __pycache__  VAE.py\r\n"
     ]
    }
   ],
   "source": [
    "a!ls {sys.path[-1]}"
   ]
  },
  {
   "cell_type": "code",
   "execution_count": 48,
   "metadata": {
    "colab": {
     "autoexec": {
      "startup": false,
      "wait_interval": 0
     },
     "base_uri": "https://localhost:8080/",
     "height": 34,
     "output_extras": [
      {
       "item_id": 1
      }
     ]
    },
    "colab_type": "code",
    "collapsed": false,
    "executionInfo": {
     "elapsed": 3763,
     "status": "ok",
     "timestamp": 1517747339921,
     "user": {
      "displayName": "Ben Moran",
      "photoUrl": "https://lh3.googleusercontent.com/a/default-user=s128",
      "userId": "106335444602864774215"
     },
     "user_tz": 0
    },
    "id": "D-gnAFmK0dYH",
    "outputId": "85890455-22c0-45cf-bb36-d043497c3a79"
   },
   "outputs": [
    {
     "data": {
      "text/plain": [
       "<module 'VAE' from '/content/drive/DEPI/deep-embedding/pytorch/VAE.py'>"
      ]
     },
     "execution_count": 48,
     "metadata": {
      "tags": []
     },
     "output_type": "execute_result"
    }
   ],
   "source": [
    "import torch\n",
    "from torchvision import transforms\n",
    "from depiloader import DepiDataset, DataLoader, \\\n",
    "  Normalize, ToTensor, AddChannel\n",
    "import VAE\n",
    "\n"
   ]
  },
  {
   "cell_type": "code",
   "execution_count": 0,
   "metadata": {
    "colab": {
     "autoexec": {
      "startup": false,
      "wait_interval": 0
     }
    },
    "colab_type": "code",
    "collapsed": true,
    "id": "y-Iuq0EKzHSG"
   },
   "outputs": [],
   "source": [
    "# !google-drive-ocamlfuse -cc\n",
    "\n",
    "import importlib\n",
    "importlib.reload(VAE)\n"
   ]
  },
  {
   "cell_type": "code",
   "execution_count": 0,
   "metadata": {
    "colab": {
     "autoexec": {
      "startup": false,
      "wait_interval": 0
     }
    },
    "colab_type": "code",
    "collapsed": true,
    "id": "ko5F1zt_LCSG"
   },
   "outputs": [],
   "source": [
    "dataset = DepiDataset(\"/content/drive/DEPI/depi/\", \"4mm\", \n",
    "\t\t      transform=transforms.Compose([Normalize(),\n",
    "\t\t\t\t\t\t    ToTensor(),\n",
    "\t\t\t\t\t\t    AddChannel()]))\n"
   ]
  },
  {
   "cell_type": "code",
   "execution_count": 0,
   "metadata": {
    "colab": {
     "autoexec": {
      "startup": false,
      "wait_interval": 0
     }
    },
    "colab_type": "code",
    "collapsed": true,
    "id": "DU0BYwGAKS7k"
   },
   "outputs": [],
   "source": [
    "\n",
    "dataloader = DataLoader(dataset, batch_size=4,\n",
    "\t\t\tshuffle=True, num_workers=4)\n"
   ]
  },
  {
   "cell_type": "code",
   "execution_count": 0,
   "metadata": {
    "colab": {
     "autoexec": {
      "startup": false,
      "wait_interval": 0
     }
    },
    "colab_type": "code",
    "collapsed": true,
    "id": "Y3fhBBk0LN0R"
   },
   "outputs": [],
   "source": [
    "# Let's get the first batch to check the loader works.\n",
    "eg_batch = next(iter(dataloader))[0]\n"
   ]
  },
  {
   "cell_type": "code",
   "execution_count": 0,
   "metadata": {
    "colab": {
     "autoexec": {
      "startup": false,
      "wait_interval": 0
     }
    },
    "colab_type": "code",
    "collapsed": true,
    "id": "CAkPFaaWy0mB"
   },
   "outputs": [],
   "source": [
    "\n",
    "CUDA = torch.cuda.is_available()"
   ]
  },
  {
   "cell_type": "code",
   "execution_count": 0,
   "metadata": {
    "colab": {
     "autoexec": {
      "startup": false,
      "wait_interval": 0
     }
    },
    "colab_type": "code",
    "collapsed": true,
    "id": "_JsYvGbDLJpE"
   },
   "outputs": [],
   "source": [
    "\n",
    "\n",
    "latent_size = 6\n",
    "encoder = VAE.MehmetEncoder4mm(eg_batch.shape[2:], latent_size)\n",
    "decoder = VAE.MehmetDecoder4mm(encoder.latent_size, encoder.last_size)\n",
    "model = VAE.VAE(encoder, decoder)\n",
    "\n",
    "if CUDA:\n",
    "    model.cuda()\n",
    "\n",
    "optimizer = torch.optim.Adam(model.parameters(), lr=1e-3)    \n",
    "\n"
   ]
  },
  {
   "cell_type": "code",
   "execution_count": 0,
   "metadata": {
    "colab": {
     "autoexec": {
      "startup": false,
      "wait_interval": 0
     },
     "base_uri": "https://localhost:8080/",
     "height": 1906,
     "output_extras": [
      {},
      {},
      {}
     ]
    },
    "colab_type": "code",
    "collapsed": false,
    "executionInfo": {
     "elapsed": 318868,
     "status": "error",
     "timestamp": 1517694663724,
     "user": {
      "displayName": "Theo Sdad",
      "photoUrl": "https://lh3.googleusercontent.com/a/default-user=s128",
      "userId": "115280782544631233818"
     },
     "user_tz": 0
    },
    "id": "g5YJvhWwoZ1O",
    "outputId": "d125b1eb-0e7e-4c7b-81e7-a17b40bfe182"
   },
   "outputs": [
    {
     "name": "stdout",
     "output_type": "stream",
     "text": [
      "Train Epoch: 0 [0/100 (0%)]\tLogLik: -103979.593750\tKLD: 2.353005\tLoss: 103981.945312\n",
      "====> Epoch: 0 Average loss: 103711.0809\n",
      "Train Epoch: 1 [0/100 (0%)]\tLogLik: -102391.820312\tKLD: 4.605109\tLoss: 102396.421875\n",
      "====> Epoch: 1 Average loss: 103646.0275\n",
      "Train Epoch: 2 [0/100 (0%)]\tLogLik: -104228.429688\tKLD: 2.990988\tLoss: 104231.421875\n",
      "====> Epoch: 2 Average loss: 103570.6259\n",
      "Train Epoch: 3 [0/100 (0%)]\tLogLik: -103004.968750\tKLD: 3.411963\tLoss: 103008.382812\n",
      "====> Epoch: 3 Average loss: 103492.8234\n",
      "Train Epoch: 4 [0/100 (0%)]\tLogLik: -102583.250000\tKLD: 3.395750\tLoss: 102586.648438\n",
      "====> Epoch: 4 Average loss: 103415.8750\n",
      "Train Epoch: 5 [0/100 (0%)]\tLogLik: -103832.710938\tKLD: 1.910368\tLoss: 103834.625000\n",
      "====> Epoch: 5 Average loss: 103341.9994\n",
      "Train Epoch: 6 [0/100 (0%)]\tLogLik: -102577.195312\tKLD: 2.531223\tLoss: 102579.726562\n",
      "====> Epoch: 6 Average loss: 103273.0778\n",
      "Train Epoch: 7 [0/100 (0%)]\tLogLik: -103241.210938\tKLD: 1.797369\tLoss: 103243.007812\n",
      "====> Epoch: 7 Average loss: 103210.3206\n",
      "Train Epoch: 8 [0/100 (0%)]\tLogLik: -103807.562500\tKLD: 1.245733\tLoss: 103808.804688\n",
      "====> Epoch: 8 Average loss: 103153.1069\n",
      "Train Epoch: 9 [0/100 (0%)]\tLogLik: -103428.656250\tKLD: 1.002505\tLoss: 103429.656250\n",
      "====> Epoch: 9 Average loss: 103103.4234\n",
      "Train Epoch: 10 [0/100 (0%)]\tLogLik: -102598.421875\tKLD: 1.528913\tLoss: 102599.953125\n",
      "====> Epoch: 10 Average loss: 103059.2847\n",
      "Train Epoch: 11 [0/100 (0%)]\tLogLik: -103226.789062\tKLD: 0.859152\tLoss: 103227.648438\n",
      "====> Epoch: 11 Average loss: 103021.2612\n",
      "Train Epoch: 12 [0/100 (0%)]\tLogLik: -102918.421875\tKLD: 0.677114\tLoss: 102919.101562\n",
      "====> Epoch: 12 Average loss: 102989.0397\n",
      "Train Epoch: 13 [0/100 (0%)]\tLogLik: -103013.703125\tKLD: 0.928781\tLoss: 103014.632812\n",
      "====> Epoch: 13 Average loss: 102962.2944\n",
      "Train Epoch: 14 [0/100 (0%)]\tLogLik: -103661.968750\tKLD: 0.438893\tLoss: 103662.406250\n",
      "====> Epoch: 14 Average loss: 102939.4037\n",
      "Train Epoch: 15 [0/100 (0%)]\tLogLik: -102985.984375\tKLD: 0.667643\tLoss: 102986.648438\n",
      "====> Epoch: 15 Average loss: 102921.2453\n",
      "Train Epoch: 16 [0/100 (0%)]\tLogLik: -103388.460938\tKLD: 0.317635\tLoss: 103388.781250\n",
      "====> Epoch: 16 Average loss: 102905.8853\n",
      "Train Epoch: 17 [0/100 (0%)]\tLogLik: -102461.187500\tKLD: 0.671792\tLoss: 102461.859375\n"
     ]
    },
    {
     "name": "stderr",
     "output_type": "stream",
     "text": [
      "Process Process-101:\n",
      "  File \"/usr/lib/python3.6/multiprocessing/connection.py\", line 407, in _recv_bytes\n",
      "    buf = self._recv(4)\n",
      "Process Process-102:\n",
      "Process Process-103:\n",
      "Traceback (most recent call last):\n",
      "Traceback (most recent call last):\n",
      "Traceback (most recent call last):\n",
      "Process Process-104:\n",
      "  File \"/usr/lib/python3.6/multiprocessing/process.py\", line 258, in _bootstrap\n",
      "    self.run()\n",
      "  File \"/usr/lib/python3.6/multiprocessing/process.py\", line 258, in _bootstrap\n",
      "    self.run()\n",
      "  File \"/usr/lib/python3.6/multiprocessing/process.py\", line 258, in _bootstrap\n",
      "    self.run()\n",
      "  File \"/usr/lib/python3.6/multiprocessing/process.py\", line 93, in run\n",
      "    self._target(*self._args, **self._kwargs)\n",
      "  File \"/usr/lib/python3.6/multiprocessing/process.py\", line 93, in run\n",
      "    self._target(*self._args, **self._kwargs)\n",
      "  File \"/usr/lib/python3.6/multiprocessing/process.py\", line 93, in run\n",
      "    self._target(*self._args, **self._kwargs)\n",
      "  File \"/usr/local/lib/python3.6/dist-packages/torch/utils/data/dataloader.py\", line 36, in _worker_loop\n",
      "    r = index_queue.get()\n",
      "  File \"/usr/local/lib/python3.6/dist-packages/torch/utils/data/dataloader.py\", line 36, in _worker_loop\n",
      "    r = index_queue.get()\n",
      "  File \"/usr/local/lib/python3.6/dist-packages/torch/utils/data/dataloader.py\", line 36, in _worker_loop\n",
      "    r = index_queue.get()\n",
      "  File \"/usr/lib/python3.6/multiprocessing/queues.py\", line 334, in get\n",
      "    with self._rlock:\n",
      "  File \"/usr/lib/python3.6/multiprocessing/queues.py\", line 335, in get\n",
      "    res = self._reader.recv_bytes()\n",
      "  File \"/usr/lib/python3.6/multiprocessing/queues.py\", line 334, in get\n",
      "    with self._rlock:\n",
      "  File \"/usr/lib/python3.6/multiprocessing/synchronize.py\", line 96, in __enter__\n",
      "    return self._semlock.__enter__()\n",
      "  File \"/usr/lib/python3.6/multiprocessing/connection.py\", line 216, in recv_bytes\n",
      "    buf = self._recv_bytes(maxlength)\n",
      "  File \"/usr/lib/python3.6/multiprocessing/synchronize.py\", line 96, in __enter__\n",
      "    return self._semlock.__enter__()\n",
      "Traceback (most recent call last):\n",
      "KeyboardInterrupt\n",
      "KeyboardInterrupt\n",
      "  File \"/usr/lib/python3.6/multiprocessing/process.py\", line 258, in _bootstrap\n",
      "    self.run()\n",
      "  File \"/usr/lib/python3.6/multiprocessing/process.py\", line 93, in run\n",
      "    self._target(*self._args, **self._kwargs)\n",
      "  File \"/usr/lib/python3.6/multiprocessing/connection.py\", line 379, in _recv\n",
      "    chunk = read(handle, remaining)\n",
      "  File \"/usr/local/lib/python3.6/dist-packages/torch/utils/data/dataloader.py\", line 36, in _worker_loop\n",
      "    r = index_queue.get()\n",
      "  File \"/usr/lib/python3.6/multiprocessing/queues.py\", line 334, in get\n",
      "    with self._rlock:\n",
      "KeyboardInterrupt\n",
      "  File \"/usr/lib/python3.6/multiprocessing/synchronize.py\", line 96, in __enter__\n",
      "    return self._semlock.__enter__()\n",
      "KeyboardInterrupt\n"
     ]
    },
    {
     "ename": "KeyboardInterrupt",
     "evalue": "ignored",
     "output_type": "error",
     "traceback": [
      "\u001b[0;31m---------------------------------------------------------------------------\u001b[0m",
      "\u001b[0;31mKeyboardInterrupt\u001b[0m                         Traceback (most recent call last)",
      "\u001b[0;32m<ipython-input-67-7e685668f815>\u001b[0m in \u001b[0;36m<module>\u001b[0;34m()\u001b[0m\n\u001b[1;32m      1\u001b[0m \u001b[0;32mfor\u001b[0m \u001b[0mepoch\u001b[0m \u001b[0;32min\u001b[0m \u001b[0mrange\u001b[0m\u001b[0;34m(\u001b[0m\u001b[0;36m100\u001b[0m\u001b[0;34m)\u001b[0m\u001b[0;34m:\u001b[0m\u001b[0;34m\u001b[0m\u001b[0m\n\u001b[0;32m----> 2\u001b[0;31m   \u001b[0mVAE\u001b[0m\u001b[0;34m.\u001b[0m\u001b[0mrun_training\u001b[0m\u001b[0;34m(\u001b[0m\u001b[0mdataloader\u001b[0m\u001b[0;34m,\u001b[0m \u001b[0mmodel\u001b[0m\u001b[0;34m,\u001b[0m \u001b[0moptimizer\u001b[0m\u001b[0;34m,\u001b[0m \u001b[0mepoch\u001b[0m\u001b[0;34m=\u001b[0m\u001b[0mepoch\u001b[0m\u001b[0;34m)\u001b[0m\u001b[0;34m\u001b[0m\u001b[0m\n\u001b[0m",
      "\u001b[0;32m/content/drive/VAE.py\u001b[0m in \u001b[0;36mrun_training\u001b[0;34m(train_loader, model, optimizer, epoch, log_interval)\u001b[0m\n\u001b[1;32m    227\u001b[0m         \u001b[0mloss\u001b[0m \u001b[0;34m=\u001b[0m \u001b[0;34m-\u001b[0m\u001b[0mloglik\u001b[0m \u001b[0;34m+\u001b[0m \u001b[0mkld_loss\u001b[0m\u001b[0;34m\u001b[0m\u001b[0m\n\u001b[1;32m    228\u001b[0m         \u001b[0mloss\u001b[0m\u001b[0;34m.\u001b[0m\u001b[0mbackward\u001b[0m\u001b[0;34m(\u001b[0m\u001b[0;34m)\u001b[0m\u001b[0;34m\u001b[0m\u001b[0m\n\u001b[0;32m--> 229\u001b[0;31m         \u001b[0mtrain_loss\u001b[0m \u001b[0;34m+=\u001b[0m \u001b[0mloss\u001b[0m\u001b[0;34m.\u001b[0m\u001b[0mdata\u001b[0m\u001b[0;34m[\u001b[0m\u001b[0;36m0\u001b[0m\u001b[0;34m]\u001b[0m\u001b[0;34m\u001b[0m\u001b[0m\n\u001b[0m\u001b[1;32m    230\u001b[0m         \u001b[0moptimizer\u001b[0m\u001b[0;34m.\u001b[0m\u001b[0mstep\u001b[0m\u001b[0;34m(\u001b[0m\u001b[0;34m)\u001b[0m\u001b[0;34m\u001b[0m\u001b[0m\n\u001b[1;32m    231\u001b[0m         \u001b[0;32mif\u001b[0m \u001b[0mbatch_idx\u001b[0m \u001b[0;34m%\u001b[0m \u001b[0mlog_interval\u001b[0m \u001b[0;34m==\u001b[0m \u001b[0;36m0\u001b[0m\u001b[0;34m:\u001b[0m\u001b[0;34m\u001b[0m\u001b[0m\n",
      "\u001b[0;31mKeyboardInterrupt\u001b[0m: "
     ]
    }
   ],
   "source": [
    "for epoch in range(100):\n",
    "  VAE.run_training(dataloader, model, optimizer, epoch=epoch)"
   ]
  },
  {
   "cell_type": "code",
   "execution_count": 0,
   "metadata": {
    "colab": {
     "autoexec": {
      "startup": false,
      "wait_interval": 0
     }
    },
    "colab_type": "code",
    "collapsed": true,
    "id": "iXEGfapEnQmW"
   },
   "outputs": [],
   "source": [
    "recon, mu, logvar = model(data.cuda())"
   ]
  },
  {
   "cell_type": "code",
   "execution_count": 0,
   "metadata": {
    "colab": {
     "autoexec": {
      "startup": false,
      "wait_interval": 0
     },
     "base_uri": "https://localhost:8080/",
     "height": 34,
     "output_extras": [
      {}
     ]
    },
    "colab_type": "code",
    "collapsed": false,
    "executionInfo": {
     "elapsed": 499,
     "status": "ok",
     "timestamp": 1517694771765,
     "user": {
      "displayName": "Theo Sdad",
      "photoUrl": "https://lh3.googleusercontent.com/a/default-user=s128",
      "userId": "115280782544631233818"
     },
     "user_tz": 0
    },
    "id": "J9vT_CFFpt_4",
    "outputId": "90dcd56d-9aca-417e-aa69-e943ae32e3a0"
   },
   "outputs": [
    {
     "data": {
      "text/plain": [
       "torch.Size([45, 54, 45])"
      ]
     },
     "execution_count": 75,
     "metadata": {
      "tags": []
     },
     "output_type": "execute_result"
    }
   ],
   "source": [
    "recon[0][0].shape"
   ]
  },
  {
   "cell_type": "code",
   "execution_count": 0,
   "metadata": {
    "colab": {
     "autoexec": {
      "startup": false,
      "wait_interval": 0
     }
    },
    "colab_type": "code",
    "collapsed": true,
    "id": "aYdrjeMhqE1Y"
   },
   "outputs": [],
   "source": [
    "%matplotlib inline"
   ]
  },
  {
   "cell_type": "code",
   "execution_count": 0,
   "metadata": {
    "colab": {
     "autoexec": {
      "startup": false,
      "wait_interval": 0
     }
    },
    "colab_type": "code",
    "collapsed": true,
    "id": "r2M_JBpaqHs4"
   },
   "outputs": [],
   "source": [
    "import matplotlib.pyplot as plt"
   ]
  },
  {
   "cell_type": "code",
   "execution_count": 0,
   "metadata": {
    "colab": {
     "autoexec": {
      "startup": false,
      "wait_interval": 0
     },
     "base_uri": "https://localhost:8080/",
     "height": 284,
     "output_extras": [
      {},
      {}
     ]
    },
    "colab_type": "code",
    "collapsed": false,
    "executionInfo": {
     "elapsed": 504,
     "status": "ok",
     "timestamp": 1517694913965,
     "user": {
      "displayName": "Theo Sdad",
      "photoUrl": "https://lh3.googleusercontent.com/a/default-user=s128",
      "userId": "115280782544631233818"
     },
     "user_tz": 0
    },
    "id": "LXf3xdz6qJwV",
    "outputId": "6b8b0539-b76b-4093-8564-ef9a43cc983c"
   },
   "outputs": [
    {
     "data": {
      "text/plain": [
       "<matplotlib.image.AxesImage at 0x7f2a87d4ab00>"
      ]
     },
     "execution_count": 88,
     "metadata": {
      "tags": []
     },
     "output_type": "execute_result"
    },
    {
     "data": {
      "image/png": "[encoded data removed]",
      "text/plain": [
       "<matplotlib.figure.Figure at 0x7f2a87d20128>"
      ]
     },
     "metadata": {
      "tags": []
     },
     "output_type": "display_data"
    }
   ],
   "source": [
    "plt.imshow(data[0][0][22].cpu().data.numpy())"
   ]
  },
  {
   "cell_type": "code",
   "execution_count": 0,
   "metadata": {
    "colab": {
     "autoexec": {
      "startup": false,
      "wait_interval": 0
     },
     "base_uri": "https://localhost:8080/",
     "height": 284,
     "output_extras": [
      {},
      {}
     ]
    },
    "colab_type": "code",
    "collapsed": false,
    "executionInfo": {
     "elapsed": 563,
     "status": "ok",
     "timestamp": 1517694933962,
     "user": {
      "displayName": "Theo Sdad",
      "photoUrl": "https://lh3.googleusercontent.com/a/default-user=s128",
      "userId": "115280782544631233818"
     },
     "user_tz": 0
    },
    "id": "jL7DsJPqqPK5",
    "outputId": "3980d9db-012e-4211-de1b-032dc1a053b0"
   },
   "outputs": [
    {
     "data": {
      "text/plain": [
       "<matplotlib.image.AxesImage at 0x7f2a87ca4eb8>"
      ]
     },
     "execution_count": 91,
     "metadata": {
      "tags": []
     },
     "output_type": "execute_result"
    },
    {
     "data": {
      "image/png": "[encoded data removed]",
      "text/plain": [
       "<matplotlib.figure.Figure at 0x7f2a87cd3e80>"
      ]
     },
     "metadata": {
      "tags": []
     },
     "output_type": "display_data"
    }
   ],
   "source": [
    "plt.imshow(recon[0][0][22].cpu().data.numpy())"
   ]
  },
  {
   "cell_type": "code",
   "execution_count": 0,
   "metadata": {
    "colab": {
     "autoexec": {
      "startup": false,
      "wait_interval": 0
     }
    },
    "colab_type": "code",
    "collapsed": true,
    "id": "l0W6xlQ4qLtz"
   },
   "outputs": [],
   "source": []
  }
 ],
 "metadata": {
  "accelerator": "GPU",
  "colab": {
   "collapsed_sections": [
    "Wf2ERp95pI1P",
    "AN5G8GyHtgsg",
    "kA78OgENtmBS"
   ],
   "default_view": {},
   "name": "depi-pytorch-colab.ipynb",
   "provenance": [
    {
     "file_id": "1rw3lH-OWm8NIlbEfETPqvn2rX6jbp4-J",
     "timestamp": 1517396157541
    }
   ],
   "version": "0.3.2",
   "views": {}
  },
  "kernelspec": {
   "display_name": "Python 3",
   "name": "python3"
  }
 },
 "nbformat": 4,
 "nbformat_minor": 0
}
